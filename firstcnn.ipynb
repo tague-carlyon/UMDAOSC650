{
  "cells": [
    {
      "cell_type": "markdown",
      "metadata": {
        "colab_type": "text",
        "id": "view-in-github"
      },
      "source": [
        "<a href=\"https://colab.research.google.com/github/mariajmolina/UMDAOSC650/blob/main/firstcnn.ipynb\" target=\"_parent\"><img src=\"https://colab.research.google.com/assets/colab-badge.svg\" alt=\"Open In Colab\"/></a>"
      ]
    },
    {
      "cell_type": "markdown",
      "metadata": {
        "id": "pwgWAFL8GZWw"
      },
      "source": [
        "# Our first CNN!"
      ]
    },
    {
      "cell_type": "markdown",
      "metadata": {
        "id": "WmqM9d_sEJHu"
      },
      "source": [
        "Here we have some helper functions for normalizing and standardizing our data using numpy."
      ]
    },
    {
      "cell_type": "code",
      "execution_count": 1,
      "metadata": {
        "id": "uA1hA1WUC-R-"
      },
      "outputs": [],
      "source": [
        "import numpy as np\n",
        "\n",
        "def z_score(da):\n",
        "    \"\"\"\n",
        "    Compute z-score for training data.\n",
        "    Normalizing data for ML model training.\n",
        "    Args:\n",
        "        da (array): Array of training variable.\n",
        "    \"\"\"\n",
        "    return (da - np.mean(da)) / np.std(da)\n",
        "\n",
        "def z_score_nosub(da):\n",
        "    \"\"\"\n",
        "    Compute z-score for training data.\n",
        "    Normalizing data for ML model training.\n",
        "    Args:\n",
        "        da (array): Array of training variable.\n",
        "    \"\"\"\n",
        "    return da / np.std(da)\n",
        "\n",
        "def z_score_median(da):\n",
        "    \"\"\"\n",
        "    Compute z-score for training data.\n",
        "    Normalizing data for ML model training.\n",
        "    Args:\n",
        "        da (array): Array of training variable.\n",
        "    \"\"\"\n",
        "    return (da - np.median(da)) / np.std(da)\n",
        "\n",
        "def z_score_max(da):\n",
        "    \"\"\"\n",
        "    Compute z-score for training data.\n",
        "    Normalizing data for ML model training.\n",
        "    Args:\n",
        "        da (array): Array of training variable.\n",
        "    \"\"\"\n",
        "    return (da - np.mean(da)) / np.max(da)\n",
        "\n",
        "def min_max_scale(da):\n",
        "    \"\"\"\n",
        "    Scale training data by minimum and maximum values.\n",
        "    Args:\n",
        "        da (array): Array of training variable.\n",
        "    \"\"\"\n",
        "    return (da - np.min(da)) / (np.max(da) - np.min(da))"
      ]
    },
    {
      "cell_type": "markdown",
      "metadata": {
        "id": "JBirR3cdICH8"
      },
      "source": [
        "## **Supervised Learning Regression Example**"
      ]
    },
    {
      "cell_type": "markdown",
      "metadata": {
        "id": "rT22AWjwIIeX"
      },
      "source": [
        "Now, we will proceed with training a neural network in a supervised learning regression application."
      ]
    },
    {
      "cell_type": "markdown",
      "metadata": {
        "id": "Z6MIe4xpeOQq"
      },
      "source": [
        "We will use a dataset from Molina et al. (2021) consisting of thunderstorms generated using a 4-km horizontal resolution WRF simulation. We are using a small portion of the dataset, specifically thunderstorms simulated for April 27, 2011 over the continental United States."
      ]
    },
    {
      "cell_type": "code",
      "execution_count": null,
      "metadata": {
        "colab": {
          "base_uri": "https://localhost:8080/"
        },
        "id": "YIDtIzo3IJFS",
        "outputId": "68f262be-e2f2-4a57-d8d3-323910eb4b45"
      },
      "outputs": [
        {
          "name": "stdout",
          "output_type": "stream",
          "text": [
            "--2025-03-06 17:39:40--  https://zenodo.org/records/10576726/files/current_SP3hourly_20110427.nc\n",
            "Resolving zenodo.org (zenodo.org)... 188.185.48.194, 188.185.43.25, 188.185.45.92, ...\n",
            "Connecting to zenodo.org (zenodo.org)|188.185.48.194|:443... connected.\n",
            "HTTP request sent, awaiting response... 200 OK\n",
            "Length: 109400556 (104M) [application/octet-stream]\n",
            "Saving to: ‘current_SP3hourly_20110427.nc.1’\n",
            "\n",
            "current_SP3hourly_2 100%[===================>] 104.33M  15.0MB/s    in 7.6s    \n",
            "\n",
            "2025-03-06 17:39:48 (13.7 MB/s) - ‘current_SP3hourly_20110427.nc.1’ saved [109400556/109400556]\n",
            "\n"
          ]
        }
      ],
      "source": [
        "import os\n",
        "\n",
        "if not os.path.isfile('current_SP3hourly_20110427.nc'):\n",
        "    !wget https://zenodo.org/records/10576726/files/current_SP3hourly_20110427.nc"
      ]
    },
    {
      "cell_type": "markdown",
      "metadata": {
        "id": "FTRe0rEpexSJ"
      },
      "source": [
        "Let's visualize the dataset. We can use python libraries for this."
      ]
    },
    {
      "cell_type": "code",
      "execution_count": 66,
      "metadata": {
        "id": "V-_wY-Lqewnh"
      },
      "outputs": [],
      "source": [
        "import matplotlib.pyplot as plt\n",
        "import xarray as xr"
      ]
    },
    {
      "cell_type": "code",
      "execution_count": 70,
      "metadata": {
        "id": "pY1Bn-N8d7pB"
      },
      "outputs": [],
      "source": [
        "ds = xr.open_dataset('current_SP3hourly_20110427.nc')"
      ]
    },
    {
      "cell_type": "code",
      "execution_count": 71,
      "metadata": {
        "colab": {
          "base_uri": "https://localhost:8080/",
          "height": 511
        },
        "id": "YYoMRMW9ewrH",
        "outputId": "79306bc4-e596-4ba7-d06d-6f084783e352"
      },
      "outputs": [
        {
          "data": {
            "text/html": [
              "<div><svg style=\"position: absolute; width: 0; height: 0; overflow: hidden\">\n",
              "<defs>\n",
              "<symbol id=\"icon-database\" viewBox=\"0 0 32 32\">\n",
              "<path d=\"M16 0c-8.837 0-16 2.239-16 5v4c0 2.761 7.163 5 16 5s16-2.239 16-5v-4c0-2.761-7.163-5-16-5z\"></path>\n",
              "<path d=\"M16 17c-8.837 0-16-2.239-16-5v6c0 2.761 7.163 5 16 5s16-2.239 16-5v-6c0 2.761-7.163 5-16 5z\"></path>\n",
              "<path d=\"M16 26c-8.837 0-16-2.239-16-5v6c0 2.761 7.163 5 16 5s16-2.239 16-5v-6c0 2.761-7.163 5-16 5z\"></path>\n",
              "</symbol>\n",
              "<symbol id=\"icon-file-text2\" viewBox=\"0 0 32 32\">\n",
              "<path d=\"M28.681 7.159c-0.694-0.947-1.662-2.053-2.724-3.116s-2.169-2.030-3.116-2.724c-1.612-1.182-2.393-1.319-2.841-1.319h-15.5c-1.378 0-2.5 1.121-2.5 2.5v27c0 1.378 1.122 2.5 2.5 2.5h23c1.378 0 2.5-1.122 2.5-2.5v-19.5c0-0.448-0.137-1.23-1.319-2.841zM24.543 5.457c0.959 0.959 1.712 1.825 2.268 2.543h-4.811v-4.811c0.718 0.556 1.584 1.309 2.543 2.268zM28 29.5c0 0.271-0.229 0.5-0.5 0.5h-23c-0.271 0-0.5-0.229-0.5-0.5v-27c0-0.271 0.229-0.5 0.5-0.5 0 0 15.499-0 15.5 0v7c0 0.552 0.448 1 1 1h7v19.5z\"></path>\n",
              "<path d=\"M23 26h-14c-0.552 0-1-0.448-1-1s0.448-1 1-1h14c0.552 0 1 0.448 1 1s-0.448 1-1 1z\"></path>\n",
              "<path d=\"M23 22h-14c-0.552 0-1-0.448-1-1s0.448-1 1-1h14c0.552 0 1 0.448 1 1s-0.448 1-1 1z\"></path>\n",
              "<path d=\"M23 18h-14c-0.552 0-1-0.448-1-1s0.448-1 1-1h14c0.552 0 1 0.448 1 1s-0.448 1-1 1z\"></path>\n",
              "</symbol>\n",
              "</defs>\n",
              "</svg>\n",
              "<style>/* CSS stylesheet for displaying xarray objects in jupyterlab.\n",
              " *\n",
              " */\n",
              "\n",
              ":root {\n",
              "  --xr-font-color0: var(--jp-content-font-color0, rgba(0, 0, 0, 1));\n",
              "  --xr-font-color2: var(--jp-content-font-color2, rgba(0, 0, 0, 0.54));\n",
              "  --xr-font-color3: var(--jp-content-font-color3, rgba(0, 0, 0, 0.38));\n",
              "  --xr-border-color: var(--jp-border-color2, #e0e0e0);\n",
              "  --xr-disabled-color: var(--jp-layout-color3, #bdbdbd);\n",
              "  --xr-background-color: var(--jp-layout-color0, white);\n",
              "  --xr-background-color-row-even: var(--jp-layout-color1, white);\n",
              "  --xr-background-color-row-odd: var(--jp-layout-color2, #eeeeee);\n",
              "}\n",
              "\n",
              "html[theme=\"dark\"],\n",
              "html[data-theme=\"dark\"],\n",
              "body[data-theme=\"dark\"],\n",
              "body.vscode-dark {\n",
              "  --xr-font-color0: rgba(255, 255, 255, 1);\n",
              "  --xr-font-color2: rgba(255, 255, 255, 0.54);\n",
              "  --xr-font-color3: rgba(255, 255, 255, 0.38);\n",
              "  --xr-border-color: #1f1f1f;\n",
              "  --xr-disabled-color: #515151;\n",
              "  --xr-background-color: #111111;\n",
              "  --xr-background-color-row-even: #111111;\n",
              "  --xr-background-color-row-odd: #313131;\n",
              "}\n",
              "\n",
              ".xr-wrap {\n",
              "  display: block !important;\n",
              "  min-width: 300px;\n",
              "  max-width: 700px;\n",
              "}\n",
              "\n",
              ".xr-text-repr-fallback {\n",
              "  /* fallback to plain text repr when CSS is not injected (untrusted notebook) */\n",
              "  display: none;\n",
              "}\n",
              "\n",
              ".xr-header {\n",
              "  padding-top: 6px;\n",
              "  padding-bottom: 6px;\n",
              "  margin-bottom: 4px;\n",
              "  border-bottom: solid 1px var(--xr-border-color);\n",
              "}\n",
              "\n",
              ".xr-header > div,\n",
              ".xr-header > ul {\n",
              "  display: inline;\n",
              "  margin-top: 0;\n",
              "  margin-bottom: 0;\n",
              "}\n",
              "\n",
              ".xr-obj-type,\n",
              ".xr-array-name {\n",
              "  margin-left: 2px;\n",
              "  margin-right: 10px;\n",
              "}\n",
              "\n",
              ".xr-obj-type {\n",
              "  color: var(--xr-font-color2);\n",
              "}\n",
              "\n",
              ".xr-sections {\n",
              "  padding-left: 0 !important;\n",
              "  display: grid;\n",
              "  grid-template-columns: 150px auto auto 1fr 0 20px 0 20px;\n",
              "}\n",
              "\n",
              ".xr-section-item {\n",
              "  display: contents;\n",
              "}\n",
              "\n",
              ".xr-section-item input {\n",
              "  display: inline-block;\n",
              "  opacity: 0;\n",
              "  height: 0;\n",
              "}\n",
              "\n",
              ".xr-section-item input + label {\n",
              "  color: var(--xr-disabled-color);\n",
              "}\n",
              "\n",
              ".xr-section-item input:enabled + label {\n",
              "  cursor: pointer;\n",
              "  color: var(--xr-font-color2);\n",
              "}\n",
              "\n",
              ".xr-section-item input:focus + label {\n",
              "  border: 2px solid var(--xr-font-color0);\n",
              "}\n",
              "\n",
              ".xr-section-item input:enabled + label:hover {\n",
              "  color: var(--xr-font-color0);\n",
              "}\n",
              "\n",
              ".xr-section-summary {\n",
              "  grid-column: 1;\n",
              "  color: var(--xr-font-color2);\n",
              "  font-weight: 500;\n",
              "}\n",
              "\n",
              ".xr-section-summary > span {\n",
              "  display: inline-block;\n",
              "  padding-left: 0.5em;\n",
              "}\n",
              "\n",
              ".xr-section-summary-in:disabled + label {\n",
              "  color: var(--xr-font-color2);\n",
              "}\n",
              "\n",
              ".xr-section-summary-in + label:before {\n",
              "  display: inline-block;\n",
              "  content: \"►\";\n",
              "  font-size: 11px;\n",
              "  width: 15px;\n",
              "  text-align: center;\n",
              "}\n",
              "\n",
              ".xr-section-summary-in:disabled + label:before {\n",
              "  color: var(--xr-disabled-color);\n",
              "}\n",
              "\n",
              ".xr-section-summary-in:checked + label:before {\n",
              "  content: \"▼\";\n",
              "}\n",
              "\n",
              ".xr-section-summary-in:checked + label > span {\n",
              "  display: none;\n",
              "}\n",
              "\n",
              ".xr-section-summary,\n",
              ".xr-section-inline-details {\n",
              "  padding-top: 4px;\n",
              "  padding-bottom: 4px;\n",
              "}\n",
              "\n",
              ".xr-section-inline-details {\n",
              "  grid-column: 2 / -1;\n",
              "}\n",
              "\n",
              ".xr-section-details {\n",
              "  display: none;\n",
              "  grid-column: 1 / -1;\n",
              "  margin-bottom: 5px;\n",
              "}\n",
              "\n",
              ".xr-section-summary-in:checked ~ .xr-section-details {\n",
              "  display: contents;\n",
              "}\n",
              "\n",
              ".xr-array-wrap {\n",
              "  grid-column: 1 / -1;\n",
              "  display: grid;\n",
              "  grid-template-columns: 20px auto;\n",
              "}\n",
              "\n",
              ".xr-array-wrap > label {\n",
              "  grid-column: 1;\n",
              "  vertical-align: top;\n",
              "}\n",
              "\n",
              ".xr-preview {\n",
              "  color: var(--xr-font-color3);\n",
              "}\n",
              "\n",
              ".xr-array-preview,\n",
              ".xr-array-data {\n",
              "  padding: 0 5px !important;\n",
              "  grid-column: 2;\n",
              "}\n",
              "\n",
              ".xr-array-data,\n",
              ".xr-array-in:checked ~ .xr-array-preview {\n",
              "  display: none;\n",
              "}\n",
              "\n",
              ".xr-array-in:checked ~ .xr-array-data,\n",
              ".xr-array-preview {\n",
              "  display: inline-block;\n",
              "}\n",
              "\n",
              ".xr-dim-list {\n",
              "  display: inline-block !important;\n",
              "  list-style: none;\n",
              "  padding: 0 !important;\n",
              "  margin: 0;\n",
              "}\n",
              "\n",
              ".xr-dim-list li {\n",
              "  display: inline-block;\n",
              "  padding: 0;\n",
              "  margin: 0;\n",
              "}\n",
              "\n",
              ".xr-dim-list:before {\n",
              "  content: \"(\";\n",
              "}\n",
              "\n",
              ".xr-dim-list:after {\n",
              "  content: \")\";\n",
              "}\n",
              "\n",
              ".xr-dim-list li:not(:last-child):after {\n",
              "  content: \",\";\n",
              "  padding-right: 5px;\n",
              "}\n",
              "\n",
              ".xr-has-index {\n",
              "  font-weight: bold;\n",
              "}\n",
              "\n",
              ".xr-var-list,\n",
              ".xr-var-item {\n",
              "  display: contents;\n",
              "}\n",
              "\n",
              ".xr-var-item > div,\n",
              ".xr-var-item label,\n",
              ".xr-var-item > .xr-var-name span {\n",
              "  background-color: var(--xr-background-color-row-even);\n",
              "  margin-bottom: 0;\n",
              "}\n",
              "\n",
              ".xr-var-item > .xr-var-name:hover span {\n",
              "  padding-right: 5px;\n",
              "}\n",
              "\n",
              ".xr-var-list > li:nth-child(odd) > div,\n",
              ".xr-var-list > li:nth-child(odd) > label,\n",
              ".xr-var-list > li:nth-child(odd) > .xr-var-name span {\n",
              "  background-color: var(--xr-background-color-row-odd);\n",
              "}\n",
              "\n",
              ".xr-var-name {\n",
              "  grid-column: 1;\n",
              "}\n",
              "\n",
              ".xr-var-dims {\n",
              "  grid-column: 2;\n",
              "}\n",
              "\n",
              ".xr-var-dtype {\n",
              "  grid-column: 3;\n",
              "  text-align: right;\n",
              "  color: var(--xr-font-color2);\n",
              "}\n",
              "\n",
              ".xr-var-preview {\n",
              "  grid-column: 4;\n",
              "}\n",
              "\n",
              ".xr-index-preview {\n",
              "  grid-column: 2 / 5;\n",
              "  color: var(--xr-font-color2);\n",
              "}\n",
              "\n",
              ".xr-var-name,\n",
              ".xr-var-dims,\n",
              ".xr-var-dtype,\n",
              ".xr-preview,\n",
              ".xr-attrs dt {\n",
              "  white-space: nowrap;\n",
              "  overflow: hidden;\n",
              "  text-overflow: ellipsis;\n",
              "  padding-right: 10px;\n",
              "}\n",
              "\n",
              ".xr-var-name:hover,\n",
              ".xr-var-dims:hover,\n",
              ".xr-var-dtype:hover,\n",
              ".xr-attrs dt:hover {\n",
              "  overflow: visible;\n",
              "  width: auto;\n",
              "  z-index: 1;\n",
              "}\n",
              "\n",
              ".xr-var-attrs,\n",
              ".xr-var-data,\n",
              ".xr-index-data {\n",
              "  display: none;\n",
              "  background-color: var(--xr-background-color) !important;\n",
              "  padding-bottom: 5px !important;\n",
              "}\n",
              "\n",
              ".xr-var-attrs-in:checked ~ .xr-var-attrs,\n",
              ".xr-var-data-in:checked ~ .xr-var-data,\n",
              ".xr-index-data-in:checked ~ .xr-index-data {\n",
              "  display: block;\n",
              "}\n",
              "\n",
              ".xr-var-data > table {\n",
              "  float: right;\n",
              "}\n",
              "\n",
              ".xr-var-name span,\n",
              ".xr-var-data,\n",
              ".xr-index-name div,\n",
              ".xr-index-data,\n",
              ".xr-attrs {\n",
              "  padding-left: 25px !important;\n",
              "}\n",
              "\n",
              ".xr-attrs,\n",
              ".xr-var-attrs,\n",
              ".xr-var-data,\n",
              ".xr-index-data {\n",
              "  grid-column: 1 / -1;\n",
              "}\n",
              "\n",
              "dl.xr-attrs {\n",
              "  padding: 0;\n",
              "  margin: 0;\n",
              "  display: grid;\n",
              "  grid-template-columns: 125px auto;\n",
              "}\n",
              "\n",
              ".xr-attrs dt,\n",
              ".xr-attrs dd {\n",
              "  padding: 0;\n",
              "  margin: 0;\n",
              "  float: left;\n",
              "  padding-right: 10px;\n",
              "  width: auto;\n",
              "}\n",
              "\n",
              ".xr-attrs dt {\n",
              "  font-weight: normal;\n",
              "  grid-column: 1;\n",
              "}\n",
              "\n",
              ".xr-attrs dt:hover span {\n",
              "  display: inline-block;\n",
              "  background: var(--xr-background-color);\n",
              "  padding-right: 10px;\n",
              "}\n",
              "\n",
              ".xr-attrs dd {\n",
              "  grid-column: 2;\n",
              "  white-space: pre-wrap;\n",
              "  word-break: break-all;\n",
              "}\n",
              "\n",
              ".xr-icon-database,\n",
              ".xr-icon-file-text2,\n",
              ".xr-no-icon {\n",
              "  display: inline-block;\n",
              "  vertical-align: middle;\n",
              "  width: 1em;\n",
              "  height: 1.5em !important;\n",
              "  stroke-width: 0;\n",
              "  stroke: currentColor;\n",
              "  fill: currentColor;\n",
              "}\n",
              "</style><pre class='xr-text-repr-fallback'>&lt;xarray.Dataset&gt; Size: 109MB\n",
              "Dimensions:      (starttime: 2224, y: 32, x: 32)\n",
              "Coordinates:\n",
              "  * starttime    (starttime) float64 18kB 9.264e+04 9.264e+04 ... 9.266e+04\n",
              "    endtime      (starttime) float64 18kB ...\n",
              "    x_speed      (starttime) int64 18kB ...\n",
              "    y_speed      (starttime) int64 18kB ...\n",
              "Dimensions without coordinates: y, x\n",
              "Data variables:\n",
              "    uh25_grid    (starttime, y, x) float32 9MB ...\n",
              "    uh03_grid    (starttime, y, x) float32 9MB ...\n",
              "    ctt_grid     (starttime, y, x) float32 9MB ...\n",
              "    dbz_grid     (starttime, y, x) float32 9MB ...\n",
              "    mask         (starttime, y, x) int64 18MB ...\n",
              "    row_indices  (starttime, y, x) int64 18MB ...\n",
              "    col_indices  (starttime, y, x) int64 18MB ...\n",
              "    lats         (starttime, y, x) float32 9MB ...\n",
              "    lons         (starttime, y, x) float32 9MB ...</pre><div class='xr-wrap' style='display:none'><div class='xr-header'><div class='xr-obj-type'>xarray.Dataset</div></div><ul class='xr-sections'><li class='xr-section-item'><input id='section-f550a6ef-9741-40f3-9c43-41ba1d0fe6f3' class='xr-section-summary-in' type='checkbox' disabled ><label for='section-f550a6ef-9741-40f3-9c43-41ba1d0fe6f3' class='xr-section-summary'  title='Expand/collapse section'>Dimensions:</label><div class='xr-section-inline-details'><ul class='xr-dim-list'><li><span class='xr-has-index'>starttime</span>: 2224</li><li><span>y</span>: 32</li><li><span>x</span>: 32</li></ul></div><div class='xr-section-details'></div></li><li class='xr-section-item'><input id='section-560b57eb-0ed1-41a3-9499-d001e8f9a68f' class='xr-section-summary-in' type='checkbox'  checked><label for='section-560b57eb-0ed1-41a3-9499-d001e8f9a68f' class='xr-section-summary' >Coordinates: <span>(4)</span></label><div class='xr-section-inline-details'></div><div class='xr-section-details'><ul class='xr-var-list'><li class='xr-var-item'><div class='xr-var-name'><span class='xr-has-index'>starttime</span></div><div class='xr-var-dims'>(starttime)</div><div class='xr-var-dtype'>float64</div><div class='xr-var-preview xr-preview'>9.264e+04 9.264e+04 ... 9.266e+04</div><input id='attrs-2df9bc72-ad74-4aba-b756-23796c3d574d' class='xr-var-attrs-in' type='checkbox' disabled><label for='attrs-2df9bc72-ad74-4aba-b756-23796c3d574d' title='Show/Hide attributes'><svg class='icon xr-icon-file-text2'><use xlink:href='#icon-file-text2'></use></svg></label><input id='data-0981ceae-7ea2-4c7c-be4f-2b70aa9920b2' class='xr-var-data-in' type='checkbox'><label for='data-0981ceae-7ea2-4c7c-be4f-2b70aa9920b2' title='Show/Hide data repr'><svg class='icon xr-icon-database'><use xlink:href='#icon-database'></use></svg></label><div class='xr-var-attrs'><dl class='xr-attrs'></dl></div><div class='xr-var-data'><pre>array([92640., 92640., 92640., ..., 92661., 92661., 92661.])</pre></div></li><li class='xr-var-item'><div class='xr-var-name'><span>endtime</span></div><div class='xr-var-dims'>(starttime)</div><div class='xr-var-dtype'>float64</div><div class='xr-var-preview xr-preview'>...</div><input id='attrs-33f97e68-1730-4670-890b-2769fef7be35' class='xr-var-attrs-in' type='checkbox' disabled><label for='attrs-33f97e68-1730-4670-890b-2769fef7be35' title='Show/Hide attributes'><svg class='icon xr-icon-file-text2'><use xlink:href='#icon-file-text2'></use></svg></label><input id='data-4711a844-9aac-41cb-a577-7658012725f1' class='xr-var-data-in' type='checkbox'><label for='data-4711a844-9aac-41cb-a577-7658012725f1' title='Show/Hide data repr'><svg class='icon xr-icon-database'><use xlink:href='#icon-database'></use></svg></label><div class='xr-var-attrs'><dl class='xr-attrs'></dl></div><div class='xr-var-data'><pre>[2224 values with dtype=float64]</pre></div></li><li class='xr-var-item'><div class='xr-var-name'><span>x_speed</span></div><div class='xr-var-dims'>(starttime)</div><div class='xr-var-dtype'>int64</div><div class='xr-var-preview xr-preview'>...</div><input id='attrs-33123db5-0625-44e8-87a3-bf8a4308dae2' class='xr-var-attrs-in' type='checkbox' disabled><label for='attrs-33123db5-0625-44e8-87a3-bf8a4308dae2' title='Show/Hide attributes'><svg class='icon xr-icon-file-text2'><use xlink:href='#icon-file-text2'></use></svg></label><input id='data-d5f44638-8c74-4bde-984f-e4fb38e87377' class='xr-var-data-in' type='checkbox'><label for='data-d5f44638-8c74-4bde-984f-e4fb38e87377' title='Show/Hide data repr'><svg class='icon xr-icon-database'><use xlink:href='#icon-database'></use></svg></label><div class='xr-var-attrs'><dl class='xr-attrs'></dl></div><div class='xr-var-data'><pre>[2224 values with dtype=int64]</pre></div></li><li class='xr-var-item'><div class='xr-var-name'><span>y_speed</span></div><div class='xr-var-dims'>(starttime)</div><div class='xr-var-dtype'>int64</div><div class='xr-var-preview xr-preview'>...</div><input id='attrs-d9eda833-c6f7-42e8-aa32-9a7a815f8f65' class='xr-var-attrs-in' type='checkbox' disabled><label for='attrs-d9eda833-c6f7-42e8-aa32-9a7a815f8f65' title='Show/Hide attributes'><svg class='icon xr-icon-file-text2'><use xlink:href='#icon-file-text2'></use></svg></label><input id='data-c5536452-0f1f-447c-9525-2deb9d6e2a0b' class='xr-var-data-in' type='checkbox'><label for='data-c5536452-0f1f-447c-9525-2deb9d6e2a0b' title='Show/Hide data repr'><svg class='icon xr-icon-database'><use xlink:href='#icon-database'></use></svg></label><div class='xr-var-attrs'><dl class='xr-attrs'></dl></div><div class='xr-var-data'><pre>[2224 values with dtype=int64]</pre></div></li></ul></div></li><li class='xr-section-item'><input id='section-02acdeff-d909-4698-b307-01f910ce0e82' class='xr-section-summary-in' type='checkbox'  checked><label for='section-02acdeff-d909-4698-b307-01f910ce0e82' class='xr-section-summary' >Data variables: <span>(9)</span></label><div class='xr-section-inline-details'></div><div class='xr-section-details'><ul class='xr-var-list'><li class='xr-var-item'><div class='xr-var-name'><span>uh25_grid</span></div><div class='xr-var-dims'>(starttime, y, x)</div><div class='xr-var-dtype'>float32</div><div class='xr-var-preview xr-preview'>...</div><input id='attrs-b9818cc8-845d-401e-83d5-26072a2c04f0' class='xr-var-attrs-in' type='checkbox' disabled><label for='attrs-b9818cc8-845d-401e-83d5-26072a2c04f0' title='Show/Hide attributes'><svg class='icon xr-icon-file-text2'><use xlink:href='#icon-file-text2'></use></svg></label><input id='data-f55157dc-8c5a-43dc-87f8-c16159ce832f' class='xr-var-data-in' type='checkbox'><label for='data-f55157dc-8c5a-43dc-87f8-c16159ce832f' title='Show/Hide data repr'><svg class='icon xr-icon-database'><use xlink:href='#icon-database'></use></svg></label><div class='xr-var-attrs'><dl class='xr-attrs'></dl></div><div class='xr-var-data'><pre>[2277376 values with dtype=float32]</pre></div></li><li class='xr-var-item'><div class='xr-var-name'><span>uh03_grid</span></div><div class='xr-var-dims'>(starttime, y, x)</div><div class='xr-var-dtype'>float32</div><div class='xr-var-preview xr-preview'>...</div><input id='attrs-72d473e8-6eb2-4178-8c0d-68372ca7e854' class='xr-var-attrs-in' type='checkbox' disabled><label for='attrs-72d473e8-6eb2-4178-8c0d-68372ca7e854' title='Show/Hide attributes'><svg class='icon xr-icon-file-text2'><use xlink:href='#icon-file-text2'></use></svg></label><input id='data-c83e95f7-af9c-4c01-917e-bfbdd497ad98' class='xr-var-data-in' type='checkbox'><label for='data-c83e95f7-af9c-4c01-917e-bfbdd497ad98' title='Show/Hide data repr'><svg class='icon xr-icon-database'><use xlink:href='#icon-database'></use></svg></label><div class='xr-var-attrs'><dl class='xr-attrs'></dl></div><div class='xr-var-data'><pre>[2277376 values with dtype=float32]</pre></div></li><li class='xr-var-item'><div class='xr-var-name'><span>ctt_grid</span></div><div class='xr-var-dims'>(starttime, y, x)</div><div class='xr-var-dtype'>float32</div><div class='xr-var-preview xr-preview'>...</div><input id='attrs-bf49cbec-252c-4a3e-a23f-cb07d725a1de' class='xr-var-attrs-in' type='checkbox' disabled><label for='attrs-bf49cbec-252c-4a3e-a23f-cb07d725a1de' title='Show/Hide attributes'><svg class='icon xr-icon-file-text2'><use xlink:href='#icon-file-text2'></use></svg></label><input id='data-4c0cf816-d5a7-4a28-a04c-c4d846f38a86' class='xr-var-data-in' type='checkbox'><label for='data-4c0cf816-d5a7-4a28-a04c-c4d846f38a86' title='Show/Hide data repr'><svg class='icon xr-icon-database'><use xlink:href='#icon-database'></use></svg></label><div class='xr-var-attrs'><dl class='xr-attrs'></dl></div><div class='xr-var-data'><pre>[2277376 values with dtype=float32]</pre></div></li><li class='xr-var-item'><div class='xr-var-name'><span>dbz_grid</span></div><div class='xr-var-dims'>(starttime, y, x)</div><div class='xr-var-dtype'>float32</div><div class='xr-var-preview xr-preview'>...</div><input id='attrs-12ec1e15-9048-4479-93a2-45b5979ab206' class='xr-var-attrs-in' type='checkbox' disabled><label for='attrs-12ec1e15-9048-4479-93a2-45b5979ab206' title='Show/Hide attributes'><svg class='icon xr-icon-file-text2'><use xlink:href='#icon-file-text2'></use></svg></label><input id='data-1992ec53-15a1-4a4a-8b00-ffcfcf01db15' class='xr-var-data-in' type='checkbox'><label for='data-1992ec53-15a1-4a4a-8b00-ffcfcf01db15' title='Show/Hide data repr'><svg class='icon xr-icon-database'><use xlink:href='#icon-database'></use></svg></label><div class='xr-var-attrs'><dl class='xr-attrs'></dl></div><div class='xr-var-data'><pre>[2277376 values with dtype=float32]</pre></div></li><li class='xr-var-item'><div class='xr-var-name'><span>mask</span></div><div class='xr-var-dims'>(starttime, y, x)</div><div class='xr-var-dtype'>int64</div><div class='xr-var-preview xr-preview'>...</div><input id='attrs-b15eba95-7b90-4fc0-afb6-c153f5fefb9f' class='xr-var-attrs-in' type='checkbox' disabled><label for='attrs-b15eba95-7b90-4fc0-afb6-c153f5fefb9f' title='Show/Hide attributes'><svg class='icon xr-icon-file-text2'><use xlink:href='#icon-file-text2'></use></svg></label><input id='data-6857d69d-700e-4e7b-91b1-a73aac43d855' class='xr-var-data-in' type='checkbox'><label for='data-6857d69d-700e-4e7b-91b1-a73aac43d855' title='Show/Hide data repr'><svg class='icon xr-icon-database'><use xlink:href='#icon-database'></use></svg></label><div class='xr-var-attrs'><dl class='xr-attrs'></dl></div><div class='xr-var-data'><pre>[2277376 values with dtype=int64]</pre></div></li><li class='xr-var-item'><div class='xr-var-name'><span>row_indices</span></div><div class='xr-var-dims'>(starttime, y, x)</div><div class='xr-var-dtype'>int64</div><div class='xr-var-preview xr-preview'>...</div><input id='attrs-f5101dee-1d4f-45e3-a4a7-d8d09fbce567' class='xr-var-attrs-in' type='checkbox' disabled><label for='attrs-f5101dee-1d4f-45e3-a4a7-d8d09fbce567' title='Show/Hide attributes'><svg class='icon xr-icon-file-text2'><use xlink:href='#icon-file-text2'></use></svg></label><input id='data-bdba446c-3f01-4965-9a1a-2630c8320259' class='xr-var-data-in' type='checkbox'><label for='data-bdba446c-3f01-4965-9a1a-2630c8320259' title='Show/Hide data repr'><svg class='icon xr-icon-database'><use xlink:href='#icon-database'></use></svg></label><div class='xr-var-attrs'><dl class='xr-attrs'></dl></div><div class='xr-var-data'><pre>[2277376 values with dtype=int64]</pre></div></li><li class='xr-var-item'><div class='xr-var-name'><span>col_indices</span></div><div class='xr-var-dims'>(starttime, y, x)</div><div class='xr-var-dtype'>int64</div><div class='xr-var-preview xr-preview'>...</div><input id='attrs-046a10a2-fb14-4be4-b465-f22a343d116c' class='xr-var-attrs-in' type='checkbox' disabled><label for='attrs-046a10a2-fb14-4be4-b465-f22a343d116c' title='Show/Hide attributes'><svg class='icon xr-icon-file-text2'><use xlink:href='#icon-file-text2'></use></svg></label><input id='data-584cc038-4b86-417a-aeb2-102210c64443' class='xr-var-data-in' type='checkbox'><label for='data-584cc038-4b86-417a-aeb2-102210c64443' title='Show/Hide data repr'><svg class='icon xr-icon-database'><use xlink:href='#icon-database'></use></svg></label><div class='xr-var-attrs'><dl class='xr-attrs'></dl></div><div class='xr-var-data'><pre>[2277376 values with dtype=int64]</pre></div></li><li class='xr-var-item'><div class='xr-var-name'><span>lats</span></div><div class='xr-var-dims'>(starttime, y, x)</div><div class='xr-var-dtype'>float32</div><div class='xr-var-preview xr-preview'>...</div><input id='attrs-618328d0-290a-4401-8814-43dcb26f2a09' class='xr-var-attrs-in' type='checkbox' disabled><label for='attrs-618328d0-290a-4401-8814-43dcb26f2a09' title='Show/Hide attributes'><svg class='icon xr-icon-file-text2'><use xlink:href='#icon-file-text2'></use></svg></label><input id='data-e402e5c7-a621-4ffc-9109-81e20f386d42' class='xr-var-data-in' type='checkbox'><label for='data-e402e5c7-a621-4ffc-9109-81e20f386d42' title='Show/Hide data repr'><svg class='icon xr-icon-database'><use xlink:href='#icon-database'></use></svg></label><div class='xr-var-attrs'><dl class='xr-attrs'></dl></div><div class='xr-var-data'><pre>[2277376 values with dtype=float32]</pre></div></li><li class='xr-var-item'><div class='xr-var-name'><span>lons</span></div><div class='xr-var-dims'>(starttime, y, x)</div><div class='xr-var-dtype'>float32</div><div class='xr-var-preview xr-preview'>...</div><input id='attrs-4cdcaf9f-927c-4f4d-8992-08b8316cae6c' class='xr-var-attrs-in' type='checkbox' disabled><label for='attrs-4cdcaf9f-927c-4f4d-8992-08b8316cae6c' title='Show/Hide attributes'><svg class='icon xr-icon-file-text2'><use xlink:href='#icon-file-text2'></use></svg></label><input id='data-38fee3e9-feae-4245-9c39-72c6952d76d6' class='xr-var-data-in' type='checkbox'><label for='data-38fee3e9-feae-4245-9c39-72c6952d76d6' title='Show/Hide data repr'><svg class='icon xr-icon-database'><use xlink:href='#icon-database'></use></svg></label><div class='xr-var-attrs'><dl class='xr-attrs'></dl></div><div class='xr-var-data'><pre>[2277376 values with dtype=float32]</pre></div></li></ul></div></li><li class='xr-section-item'><input id='section-590238b7-a7b4-4b6d-b4e6-1a18f012a4f8' class='xr-section-summary-in' type='checkbox'  ><label for='section-590238b7-a7b4-4b6d-b4e6-1a18f012a4f8' class='xr-section-summary' >Indexes: <span>(1)</span></label><div class='xr-section-inline-details'></div><div class='xr-section-details'><ul class='xr-var-list'><li class='xr-var-item'><div class='xr-index-name'><div>starttime</div></div><div class='xr-index-preview'>PandasIndex</div><input type='checkbox' disabled/><label></label><input id='index-4b864f13-793f-4e85-b73d-89b4eacfb643' class='xr-index-data-in' type='checkbox'/><label for='index-4b864f13-793f-4e85-b73d-89b4eacfb643' title='Show/Hide index repr'><svg class='icon xr-icon-database'><use xlink:href='#icon-database'></use></svg></label><div class='xr-index-data'><pre>PandasIndex(Index([92640.0, 92640.0, 92640.0, 92640.0, 92640.0, 92640.0, 92640.0, 92640.0,\n",
              "       92640.0, 92640.0,\n",
              "       ...\n",
              "       92661.0, 92661.0, 92661.0, 92661.0, 92661.0, 92661.0, 92661.0, 92661.0,\n",
              "       92661.0, 92661.0],\n",
              "      dtype=&#x27;float64&#x27;, name=&#x27;starttime&#x27;, length=2224))</pre></div></li></ul></div></li><li class='xr-section-item'><input id='section-fb0d6d86-fb6a-4e95-9e30-101cec75960f' class='xr-section-summary-in' type='checkbox' disabled ><label for='section-fb0d6d86-fb6a-4e95-9e30-101cec75960f' class='xr-section-summary'  title='Expand/collapse section'>Attributes: <span>(0)</span></label><div class='xr-section-inline-details'></div><div class='xr-section-details'><dl class='xr-attrs'></dl></div></li></ul></div></div>"
            ],
            "text/plain": [
              "<xarray.Dataset> Size: 109MB\n",
              "Dimensions:      (starttime: 2224, y: 32, x: 32)\n",
              "Coordinates:\n",
              "  * starttime    (starttime) float64 18kB 9.264e+04 9.264e+04 ... 9.266e+04\n",
              "    endtime      (starttime) float64 18kB ...\n",
              "    x_speed      (starttime) int64 18kB ...\n",
              "    y_speed      (starttime) int64 18kB ...\n",
              "Dimensions without coordinates: y, x\n",
              "Data variables:\n",
              "    uh25_grid    (starttime, y, x) float32 9MB ...\n",
              "    uh03_grid    (starttime, y, x) float32 9MB ...\n",
              "    ctt_grid     (starttime, y, x) float32 9MB ...\n",
              "    dbz_grid     (starttime, y, x) float32 9MB ...\n",
              "    mask         (starttime, y, x) int64 18MB ...\n",
              "    row_indices  (starttime, y, x) int64 18MB ...\n",
              "    col_indices  (starttime, y, x) int64 18MB ...\n",
              "    lats         (starttime, y, x) float32 9MB ...\n",
              "    lons         (starttime, y, x) float32 9MB ..."
            ]
          },
          "execution_count": 71,
          "metadata": {},
          "output_type": "execute_result"
        }
      ],
      "source": [
        "ds"
      ]
    },
    {
      "cell_type": "markdown",
      "metadata": {
        "id": "yw6ewfZee-lr"
      },
      "source": [
        "The dataset contains 2,224 storm samples that were generated using the github reposity [deep-conus](https://github.com/mariajmolina/deep-conus). Each sample is 32x32 grid cells (i.e., pixels) with each grid cell spanning 4-km.\n",
        "\n",
        "Let's visualize some of the variables."
      ]
    },
    {
      "cell_type": "code",
      "execution_count": 73,
      "metadata": {
        "colab": {
          "base_uri": "https://localhost:8080/",
          "height": 490
        },
        "id": "DsoCCgnSfnhJ",
        "outputId": "9d10d945-66e1-4d5c-f6a3-b41889b0c02f"
      },
      "outputs": [
        {
          "data": {
            "text/plain": [
              "<matplotlib.collections.QuadMesh at 0x79c4de478110>"
            ]
          },
          "execution_count": 73,
          "metadata": {},
          "output_type": "execute_result"
        },
        {
          "data": {
            "image/png": "[encoded data removed]",
            "text/plain": [
              "<Figure size 640x480 with 2 Axes>"
            ]
          },
          "metadata": {},
          "output_type": "display_data"
        }
      ],
      "source": [
        "# simulated radar reflectivity\n",
        "ds['dbz_grid'].isel(starttime=0).plot()"
      ]
    },
    {
      "cell_type": "code",
      "execution_count": 74,
      "metadata": {
        "colab": {
          "base_uri": "https://localhost:8080/",
          "height": 490
        },
        "id": "bFIWAsD0ewu-",
        "outputId": "bf74586a-a82c-49ec-ca56-7dd462b2aae4"
      },
      "outputs": [
        {
          "data": {
            "text/plain": [
              "<matplotlib.collections.QuadMesh at 0x79c47df80110>"
            ]
          },
          "execution_count": 74,
          "metadata": {},
          "output_type": "execute_result"
        },
        {
          "data": {
            "image/png": "[encoded data removed]",
            "text/plain": [
              "<Figure size 640x480 with 2 Axes>"
            ]
          },
          "metadata": {},
          "output_type": "display_data"
        }
      ],
      "source": [
        "# gridded updraft helicity from 2-5 km\n",
        "ds['uh25_grid'].isel(starttime=0).plot()"
      ]
    },
    {
      "cell_type": "code",
      "execution_count": 75,
      "metadata": {
        "colab": {
          "base_uri": "https://localhost:8080/",
          "height": 490
        },
        "id": "dzBY7eYRfncK",
        "outputId": "82142bb2-3e94-4a90-8607-258b52dd8b4c"
      },
      "outputs": [
        {
          "data": {
            "text/plain": [
              "<matplotlib.collections.QuadMesh at 0x79c47de43710>"
            ]
          },
          "execution_count": 75,
          "metadata": {},
          "output_type": "execute_result"
        },
        {
          "data": {
            "image/png": "[encoded data removed]",
            "text/plain": [
              "<Figure size 640x480 with 2 Axes>"
            ]
          },
          "metadata": {},
          "output_type": "display_data"
        }
      ],
      "source": [
        "# gridded cloud top temperature\n",
        "ds['ctt_grid'].isel(starttime=0).plot()"
      ]
    },
    {
      "cell_type": "markdown",
      "metadata": {
        "id": "UlzHzBsPhpe1"
      },
      "source": [
        "Now we will preprocess our training and testing data. We need to split our data into a training and testing sets, and standardize."
      ]
    },
    {
      "cell_type": "code",
      "execution_count": 76,
      "metadata": {
        "id": "BYfUl7q0IJBl"
      },
      "outputs": [],
      "source": [
        "def random_split(data, label, split=0.3, seed=0):\n",
        "    \"\"\"\n",
        "    Help spliting data randomly for training and testing.\n",
        "    \"\"\"\n",
        "    np.random.seed(0)\n",
        "    da_indx = np.random.permutation(data.shape[0])\n",
        "    data  = data[da_indx.astype(int)]\n",
        "    label = label[da_indx.astype(int)]\n",
        "    init_range = int(data.shape[0] * (1 - 0.3))\n",
        "    return data[:init_range], label[:init_range], data[init_range:], label[init_range:]"
      ]
    },
    {
      "cell_type": "code",
      "execution_count": 77,
      "metadata": {
        "id": "QmZSDOrvd50f"
      },
      "outputs": [],
      "source": [
        "features = xr.concat([\n",
        "    ds['dbz_grid'].expand_dims(dim='feature', axis=3),\n",
        "    ds['ctt_grid'].expand_dims(dim='feature', axis=3)],\n",
        "          dim='feature')"
      ]
    },
    {
      "cell_type": "code",
      "execution_count": 78,
      "metadata": {
        "colab": {
          "base_uri": "https://localhost:8080/"
        },
        "id": "rt4Sl3cii7SY",
        "outputId": "4e4315f2-272d-46cd-88d5-428823463fb6"
      },
      "outputs": [
        {
          "name": "stdout",
          "output_type": "stream",
          "text": [
            "(2224, 32, 32, 2)\n"
          ]
        }
      ],
      "source": [
        "print(features.shape)"
      ]
    },
    {
      "cell_type": "code",
      "execution_count": 79,
      "metadata": {
        "id": "HgsBcfJ2ivWE"
      },
      "outputs": [],
      "source": [
        "# grab the maximum of the dbz to use as our labels (regression)\n",
        "labels = ds['dbz_grid'].expand_dims(dim='feature', axis=3).max('x').max('y')"
      ]
    },
    {
      "cell_type": "code",
      "execution_count": 80,
      "metadata": {
        "colab": {
          "base_uri": "https://localhost:8080/"
        },
        "id": "kZ57QrQXi3HV",
        "outputId": "6948d929-3803-4263-a1d4-e67f10c42d0b"
      },
      "outputs": [
        {
          "name": "stdout",
          "output_type": "stream",
          "text": [
            "<xarray.DataArray 'dbz_grid' (starttime: 2224, feature: 1)> Size: 9kB\n",
            "array([[65.721054],\n",
            "       [58.54062 ],\n",
            "       [58.54062 ],\n",
            "       ...,\n",
            "       [45.41483 ],\n",
            "       [37.786957],\n",
            "       [42.48563 ]], dtype=float32)\n",
            "Coordinates:\n",
            "  * starttime  (starttime) float64 18kB 9.264e+04 9.264e+04 ... 9.266e+04\n",
            "    endtime    (starttime) float64 18kB ...\n",
            "    x_speed    (starttime) int64 18kB ...\n",
            "    y_speed    (starttime) int64 18kB ...\n",
            "Dimensions without coordinates: feature\n"
          ]
        }
      ],
      "source": [
        "print(labels)"
      ]
    },
    {
      "cell_type": "code",
      "execution_count": 82,
      "metadata": {
        "id": "1xt_5E0DjOPD"
      },
      "outputs": [],
      "source": [
        "train_feats, train_label, test_feats, test_label = random_split(features, labels)"
      ]
    },
    {
      "cell_type": "code",
      "execution_count": 83,
      "metadata": {
        "colab": {
          "base_uri": "https://localhost:8080/"
        },
        "id": "q5kQ6CXcjOek",
        "outputId": "6a055293-de00-4808-ae66-01a14d900ad2"
      },
      "outputs": [
        {
          "name": "stdout",
          "output_type": "stream",
          "text": [
            "1556 1556 668 668\n"
          ]
        }
      ],
      "source": [
        "print(train_feats.shape[0], train_label.shape[0], test_feats.shape[0], test_label.shape[0])"
      ]
    },
    {
      "cell_type": "code",
      "execution_count": 100,
      "metadata": {
        "id": "-UM89woPj8Ep"
      },
      "outputs": [],
      "source": [
        "# normalization of our training data (note each feature individually processed!)\n",
        "train_feats_standardized = xr.concat([\n",
        "    z_score_nosub(train_feats.isel(feature=0).expand_dims(dim='feature', axis=3)),\n",
        "    z_score_nosub(train_feats.isel(feature=1).expand_dims(dim='feature', axis=3))],\n",
        "                                     dim='feature')\n",
        "\n",
        "train_label_standardized = z_score(train_label)"
      ]
    },
    {
      "cell_type": "code",
      "execution_count": 101,
      "metadata": {
        "colab": {
          "base_uri": "https://localhost:8080/",
          "height": 927
        },
        "id": "optlXJwYocz1",
        "outputId": "197d9717-0d8e-4c2d-c3da-1fbb066411d0"
      },
      "outputs": [
        {
          "data": {
            "image/png": "[encoded data removed]",
            "text/plain": [
              "<Figure size 640x480 with 1 Axes>"
            ]
          },
          "metadata": {},
          "output_type": "display_data"
        },
        {
          "data": {
            "image/png": "[encoded data removed]",
            "text/plain": [
              "<Figure size 640x480 with 1 Axes>"
            ]
          },
          "metadata": {},
          "output_type": "display_data"
        }
      ],
      "source": [
        "train_feats.isel(feature=0,starttime=15).plot.hist(); plt.show()\n",
        "train_feats_standardized.isel(feature=0,starttime=15).plot.hist(); plt.show()"
      ]
    },
    {
      "cell_type": "code",
      "execution_count": 102,
      "metadata": {
        "colab": {
          "base_uri": "https://localhost:8080/",
          "height": 490
        },
        "id": "1HV4mCLnlIMF",
        "outputId": "4f3c3900-af20-4a2f-ae33-c5531e7a98b3"
      },
      "outputs": [
        {
          "data": {
            "text/plain": [
              "<matplotlib.collections.QuadMesh at 0x79c4e1dfa390>"
            ]
          },
          "execution_count": 102,
          "metadata": {},
          "output_type": "execute_result"
        },
        {
          "data": {
            "image/png": "[encoded data removed]",
            "text/plain": [
              "<Figure size 640x480 with 2 Axes>"
            ]
          },
          "metadata": {},
          "output_type": "display_data"
        }
      ],
      "source": [
        "train_feats.isel(feature=0,starttime=15).plot()"
      ]
    },
    {
      "cell_type": "code",
      "execution_count": 103,
      "metadata": {
        "colab": {
          "base_uri": "https://localhost:8080/",
          "height": 490
        },
        "id": "w2T48h8ykonf",
        "outputId": "ef929076-a333-4308-cc5e-89bc582badc2"
      },
      "outputs": [
        {
          "data": {
            "text/plain": [
              "<matplotlib.collections.QuadMesh at 0x79c4773d5790>"
            ]
          },
          "execution_count": 103,
          "metadata": {},
          "output_type": "execute_result"
        },
        {
          "data": {
            "image/png": "[encoded data removed]",
            "text/plain": [
              "<Figure size 640x480 with 2 Axes>"
            ]
          },
          "metadata": {},
          "output_type": "display_data"
        }
      ],
      "source": [
        "train_feats_standardized.isel(feature=0,starttime=15).plot()"
      ]
    },
    {
      "cell_type": "code",
      "execution_count": 104,
      "metadata": {
        "colab": {
          "base_uri": "https://localhost:8080/",
          "height": 490
        },
        "id": "PJh6t50olRlG",
        "outputId": "16819f97-ed42-41ea-fcc3-9d3fb5de9706"
      },
      "outputs": [
        {
          "data": {
            "text/plain": [
              "<matplotlib.collections.QuadMesh at 0x79c477338110>"
            ]
          },
          "execution_count": 104,
          "metadata": {},
          "output_type": "execute_result"
        },
        {
          "data": {
            "image/png": "[encoded data removed]",
            "text/plain": [
              "<Figure size 640x480 with 2 Axes>"
            ]
          },
          "metadata": {},
          "output_type": "display_data"
        }
      ],
      "source": [
        "train_feats.isel(feature=1,starttime=100).plot()"
      ]
    },
    {
      "cell_type": "code",
      "execution_count": 105,
      "metadata": {
        "colab": {
          "base_uri": "https://localhost:8080/",
          "height": 490
        },
        "id": "EO_ugNfykwE2",
        "outputId": "2c04ef62-8c29-4893-a92a-9563474bd23d"
      },
      "outputs": [
        {
          "data": {
            "text/plain": [
              "<matplotlib.collections.QuadMesh at 0x79c4772f5790>"
            ]
          },
          "execution_count": 105,
          "metadata": {},
          "output_type": "execute_result"
        },
        {
          "data": {
            "image/png": "[encoded data removed]",
            "text/plain": [
              "<Figure size 640x480 with 2 Axes>"
            ]
          },
          "metadata": {},
          "output_type": "display_data"
        }
      ],
      "source": [
        "train_feats_standardized.isel(feature=1,starttime=100).plot()"
      ]
    },
    {
      "cell_type": "markdown",
      "metadata": {
        "id": "yS-guBx7gOkQ"
      },
      "source": [
        "Let's proceed to build a simple convolutional neural network that will take images as the input and predict the respective storm's maximum updraft helicity."
      ]
    },
    {
      "cell_type": "code",
      "execution_count": 117,
      "metadata": {
        "id": "KDM-f2a1fnlB"
      },
      "outputs": [],
      "source": [
        "import keras\n",
        "from keras import layers"
      ]
    },
    {
      "cell_type": "code",
      "execution_count": 138,
      "metadata": {
        "id": "AM2xE0yy6NPY"
      },
      "outputs": [],
      "source": [
        "# Set the seed using keras.utils.set_random_seed. This will set:\n",
        "# 1) `numpy` seed\n",
        "# 2) backend random seed\n",
        "# 3) `python` random seed\n",
        "keras.utils.set_random_seed(12)"
      ]
    },
    {
      "cell_type": "code",
      "execution_count": 139,
      "metadata": {
        "id": "94Cj7eVlhByj"
      },
      "outputs": [],
      "source": [
        "# lets use two input variables (dbz_grid and ctt_grid)\n",
        "number_of_features = 2"
      ]
    },
    {
      "cell_type": "code",
      "execution_count": 140,
      "metadata": {
        "colab": {
          "base_uri": "https://localhost:8080/",
          "height": 571
        },
        "id": "aGZqhCVfII4J",
        "outputId": "d8175c40-f28f-41a7-c8a0-d44499602b55"
      },
      "outputs": [
        {
          "data": {
            "text/html": [
              "<pre style=\"white-space:pre;overflow-x:auto;line-height:normal;font-family:Menlo,'DejaVu Sans Mono',consolas,'Courier New',monospace\"><span style=\"font-weight: bold\">Model: \"sequential_6\"</span>\n",
              "</pre>\n"
            ],
            "text/plain": [
              "\u001b[1mModel: \"sequential_6\"\u001b[0m\n"
            ]
          },
          "metadata": {},
          "output_type": "display_data"
        },
        {
          "data": {
            "text/html": [
              "<pre style=\"white-space:pre;overflow-x:auto;line-height:normal;font-family:Menlo,'DejaVu Sans Mono',consolas,'Courier New',monospace\">┏━━━━━━━━━━━━━━━━━━━━━━━━━━━━━━━━━━━━━━┳━━━━━━━━━━━━━━━━━━━━━━━━━━━━━┳━━━━━━━━━━━━━━━━━┓\n",
              "┃<span style=\"font-weight: bold\"> Layer (type)                         </span>┃<span style=\"font-weight: bold\"> Output Shape                </span>┃<span style=\"font-weight: bold\">         Param # </span>┃\n",
              "┡━━━━━━━━━━━━━━━━━━━━━━━━━━━━━━━━━━━━━━╇━━━━━━━━━━━━━━━━━━━━━━━━━━━━━╇━━━━━━━━━━━━━━━━━┩\n",
              "│ random_flip_2 (<span style=\"color: #0087ff; text-decoration-color: #0087ff\">RandomFlip</span>)           │ (<span style=\"color: #00d7ff; text-decoration-color: #00d7ff\">None</span>, <span style=\"color: #00af00; text-decoration-color: #00af00\">32</span>, <span style=\"color: #00af00; text-decoration-color: #00af00\">32</span>, <span style=\"color: #00af00; text-decoration-color: #00af00\">2</span>)           │               <span style=\"color: #00af00; text-decoration-color: #00af00\">0</span> │\n",
              "├──────────────────────────────────────┼─────────────────────────────┼─────────────────┤\n",
              "│ conv2d_15 (<span style=\"color: #0087ff; text-decoration-color: #0087ff\">Conv2D</span>)                   │ (<span style=\"color: #00d7ff; text-decoration-color: #00d7ff\">None</span>, <span style=\"color: #00af00; text-decoration-color: #00af00\">32</span>, <span style=\"color: #00af00; text-decoration-color: #00af00\">32</span>, <span style=\"color: #00af00; text-decoration-color: #00af00\">16</span>)          │             <span style=\"color: #00af00; text-decoration-color: #00af00\">304</span> │\n",
              "├──────────────────────────────────────┼─────────────────────────────┼─────────────────┤\n",
              "│ max_pooling2d_15 (<span style=\"color: #0087ff; text-decoration-color: #0087ff\">MaxPooling2D</span>)      │ (<span style=\"color: #00d7ff; text-decoration-color: #00d7ff\">None</span>, <span style=\"color: #00af00; text-decoration-color: #00af00\">16</span>, <span style=\"color: #00af00; text-decoration-color: #00af00\">16</span>, <span style=\"color: #00af00; text-decoration-color: #00af00\">16</span>)          │               <span style=\"color: #00af00; text-decoration-color: #00af00\">0</span> │\n",
              "├──────────────────────────────────────┼─────────────────────────────┼─────────────────┤\n",
              "│ dropout_9 (<span style=\"color: #0087ff; text-decoration-color: #0087ff\">Dropout</span>)                  │ (<span style=\"color: #00d7ff; text-decoration-color: #00d7ff\">None</span>, <span style=\"color: #00af00; text-decoration-color: #00af00\">16</span>, <span style=\"color: #00af00; text-decoration-color: #00af00\">16</span>, <span style=\"color: #00af00; text-decoration-color: #00af00\">16</span>)          │               <span style=\"color: #00af00; text-decoration-color: #00af00\">0</span> │\n",
              "├──────────────────────────────────────┼─────────────────────────────┼─────────────────┤\n",
              "│ conv2d_16 (<span style=\"color: #0087ff; text-decoration-color: #0087ff\">Conv2D</span>)                   │ (<span style=\"color: #00d7ff; text-decoration-color: #00d7ff\">None</span>, <span style=\"color: #00af00; text-decoration-color: #00af00\">16</span>, <span style=\"color: #00af00; text-decoration-color: #00af00\">16</span>, <span style=\"color: #00af00; text-decoration-color: #00af00\">32</span>)          │           <span style=\"color: #00af00; text-decoration-color: #00af00\">4,640</span> │\n",
              "├──────────────────────────────────────┼─────────────────────────────┼─────────────────┤\n",
              "│ max_pooling2d_16 (<span style=\"color: #0087ff; text-decoration-color: #0087ff\">MaxPooling2D</span>)      │ (<span style=\"color: #00d7ff; text-decoration-color: #00d7ff\">None</span>, <span style=\"color: #00af00; text-decoration-color: #00af00\">8</span>, <span style=\"color: #00af00; text-decoration-color: #00af00\">8</span>, <span style=\"color: #00af00; text-decoration-color: #00af00\">32</span>)            │               <span style=\"color: #00af00; text-decoration-color: #00af00\">0</span> │\n",
              "├──────────────────────────────────────┼─────────────────────────────┼─────────────────┤\n",
              "│ dropout_10 (<span style=\"color: #0087ff; text-decoration-color: #0087ff\">Dropout</span>)                 │ (<span style=\"color: #00d7ff; text-decoration-color: #00d7ff\">None</span>, <span style=\"color: #00af00; text-decoration-color: #00af00\">8</span>, <span style=\"color: #00af00; text-decoration-color: #00af00\">8</span>, <span style=\"color: #00af00; text-decoration-color: #00af00\">32</span>)            │               <span style=\"color: #00af00; text-decoration-color: #00af00\">0</span> │\n",
              "├──────────────────────────────────────┼─────────────────────────────┼─────────────────┤\n",
              "│ conv2d_17 (<span style=\"color: #0087ff; text-decoration-color: #0087ff\">Conv2D</span>)                   │ (<span style=\"color: #00d7ff; text-decoration-color: #00d7ff\">None</span>, <span style=\"color: #00af00; text-decoration-color: #00af00\">8</span>, <span style=\"color: #00af00; text-decoration-color: #00af00\">8</span>, <span style=\"color: #00af00; text-decoration-color: #00af00\">64</span>)            │          <span style=\"color: #00af00; text-decoration-color: #00af00\">18,496</span> │\n",
              "├──────────────────────────────────────┼─────────────────────────────┼─────────────────┤\n",
              "│ max_pooling2d_17 (<span style=\"color: #0087ff; text-decoration-color: #0087ff\">MaxPooling2D</span>)      │ (<span style=\"color: #00d7ff; text-decoration-color: #00d7ff\">None</span>, <span style=\"color: #00af00; text-decoration-color: #00af00\">4</span>, <span style=\"color: #00af00; text-decoration-color: #00af00\">4</span>, <span style=\"color: #00af00; text-decoration-color: #00af00\">64</span>)            │               <span style=\"color: #00af00; text-decoration-color: #00af00\">0</span> │\n",
              "├──────────────────────────────────────┼─────────────────────────────┼─────────────────┤\n",
              "│ dropout_11 (<span style=\"color: #0087ff; text-decoration-color: #0087ff\">Dropout</span>)                 │ (<span style=\"color: #00d7ff; text-decoration-color: #00d7ff\">None</span>, <span style=\"color: #00af00; text-decoration-color: #00af00\">4</span>, <span style=\"color: #00af00; text-decoration-color: #00af00\">4</span>, <span style=\"color: #00af00; text-decoration-color: #00af00\">64</span>)            │               <span style=\"color: #00af00; text-decoration-color: #00af00\">0</span> │\n",
              "├──────────────────────────────────────┼─────────────────────────────┼─────────────────┤\n",
              "│ global_max_pooling2d_5               │ (<span style=\"color: #00d7ff; text-decoration-color: #00d7ff\">None</span>, <span style=\"color: #00af00; text-decoration-color: #00af00\">64</span>)                  │               <span style=\"color: #00af00; text-decoration-color: #00af00\">0</span> │\n",
              "│ (<span style=\"color: #0087ff; text-decoration-color: #0087ff\">GlobalMaxPooling2D</span>)                 │                             │                 │\n",
              "├──────────────────────────────────────┼─────────────────────────────┼─────────────────┤\n",
              "│ dense_10 (<span style=\"color: #0087ff; text-decoration-color: #0087ff\">Dense</span>)                     │ (<span style=\"color: #00d7ff; text-decoration-color: #00d7ff\">None</span>, <span style=\"color: #00af00; text-decoration-color: #00af00\">32</span>)                  │           <span style=\"color: #00af00; text-decoration-color: #00af00\">2,080</span> │\n",
              "├──────────────────────────────────────┼─────────────────────────────┼─────────────────┤\n",
              "│ dense_11 (<span style=\"color: #0087ff; text-decoration-color: #0087ff\">Dense</span>)                     │ (<span style=\"color: #00d7ff; text-decoration-color: #00d7ff\">None</span>, <span style=\"color: #00af00; text-decoration-color: #00af00\">1</span>)                   │              <span style=\"color: #00af00; text-decoration-color: #00af00\">33</span> │\n",
              "└──────────────────────────────────────┴─────────────────────────────┴─────────────────┘\n",
              "</pre>\n"
            ],
            "text/plain": [
              "┏━━━━━━━━━━━━━━━━━━━━━━━━━━━━━━━━━━━━━━┳━━━━━━━━━━━━━━━━━━━━━━━━━━━━━┳━━━━━━━━━━━━━━━━━┓\n",
              "┃\u001b[1m \u001b[0m\u001b[1mLayer (type)                        \u001b[0m\u001b[1m \u001b[0m┃\u001b[1m \u001b[0m\u001b[1mOutput Shape               \u001b[0m\u001b[1m \u001b[0m┃\u001b[1m \u001b[0m\u001b[1m        Param #\u001b[0m\u001b[1m \u001b[0m┃\n",
              "┡━━━━━━━━━━━━━━━━━━━━━━━━━━━━━━━━━━━━━━╇━━━━━━━━━━━━━━━━━━━━━━━━━━━━━╇━━━━━━━━━━━━━━━━━┩\n",
              "│ random_flip_2 (\u001b[38;5;33mRandomFlip\u001b[0m)           │ (\u001b[38;5;45mNone\u001b[0m, \u001b[38;5;34m32\u001b[0m, \u001b[38;5;34m32\u001b[0m, \u001b[38;5;34m2\u001b[0m)           │               \u001b[38;5;34m0\u001b[0m │\n",
              "├──────────────────────────────────────┼─────────────────────────────┼─────────────────┤\n",
              "│ conv2d_15 (\u001b[38;5;33mConv2D\u001b[0m)                   │ (\u001b[38;5;45mNone\u001b[0m, \u001b[38;5;34m32\u001b[0m, \u001b[38;5;34m32\u001b[0m, \u001b[38;5;34m16\u001b[0m)          │             \u001b[38;5;34m304\u001b[0m │\n",
              "├──────────────────────────────────────┼─────────────────────────────┼─────────────────┤\n",
              "│ max_pooling2d_15 (\u001b[38;5;33mMaxPooling2D\u001b[0m)      │ (\u001b[38;5;45mNone\u001b[0m, \u001b[38;5;34m16\u001b[0m, \u001b[38;5;34m16\u001b[0m, \u001b[38;5;34m16\u001b[0m)          │               \u001b[38;5;34m0\u001b[0m │\n",
              "├──────────────────────────────────────┼─────────────────────────────┼─────────────────┤\n",
              "│ dropout_9 (\u001b[38;5;33mDropout\u001b[0m)                  │ (\u001b[38;5;45mNone\u001b[0m, \u001b[38;5;34m16\u001b[0m, \u001b[38;5;34m16\u001b[0m, \u001b[38;5;34m16\u001b[0m)          │               \u001b[38;5;34m0\u001b[0m │\n",
              "├──────────────────────────────────────┼─────────────────────────────┼─────────────────┤\n",
              "│ conv2d_16 (\u001b[38;5;33mConv2D\u001b[0m)                   │ (\u001b[38;5;45mNone\u001b[0m, \u001b[38;5;34m16\u001b[0m, \u001b[38;5;34m16\u001b[0m, \u001b[38;5;34m32\u001b[0m)          │           \u001b[38;5;34m4,640\u001b[0m │\n",
              "├──────────────────────────────────────┼─────────────────────────────┼─────────────────┤\n",
              "│ max_pooling2d_16 (\u001b[38;5;33mMaxPooling2D\u001b[0m)      │ (\u001b[38;5;45mNone\u001b[0m, \u001b[38;5;34m8\u001b[0m, \u001b[38;5;34m8\u001b[0m, \u001b[38;5;34m32\u001b[0m)            │               \u001b[38;5;34m0\u001b[0m │\n",
              "├──────────────────────────────────────┼─────────────────────────────┼─────────────────┤\n",
              "│ dropout_10 (\u001b[38;5;33mDropout\u001b[0m)                 │ (\u001b[38;5;45mNone\u001b[0m, \u001b[38;5;34m8\u001b[0m, \u001b[38;5;34m8\u001b[0m, \u001b[38;5;34m32\u001b[0m)            │               \u001b[38;5;34m0\u001b[0m │\n",
              "├──────────────────────────────────────┼─────────────────────────────┼─────────────────┤\n",
              "│ conv2d_17 (\u001b[38;5;33mConv2D\u001b[0m)                   │ (\u001b[38;5;45mNone\u001b[0m, \u001b[38;5;34m8\u001b[0m, \u001b[38;5;34m8\u001b[0m, \u001b[38;5;34m64\u001b[0m)            │          \u001b[38;5;34m18,496\u001b[0m │\n",
              "├──────────────────────────────────────┼─────────────────────────────┼─────────────────┤\n",
              "│ max_pooling2d_17 (\u001b[38;5;33mMaxPooling2D\u001b[0m)      │ (\u001b[38;5;45mNone\u001b[0m, \u001b[38;5;34m4\u001b[0m, \u001b[38;5;34m4\u001b[0m, \u001b[38;5;34m64\u001b[0m)            │               \u001b[38;5;34m0\u001b[0m │\n",
              "├──────────────────────────────────────┼─────────────────────────────┼─────────────────┤\n",
              "│ dropout_11 (\u001b[38;5;33mDropout\u001b[0m)                 │ (\u001b[38;5;45mNone\u001b[0m, \u001b[38;5;34m4\u001b[0m, \u001b[38;5;34m4\u001b[0m, \u001b[38;5;34m64\u001b[0m)            │               \u001b[38;5;34m0\u001b[0m │\n",
              "├──────────────────────────────────────┼─────────────────────────────┼─────────────────┤\n",
              "│ global_max_pooling2d_5               │ (\u001b[38;5;45mNone\u001b[0m, \u001b[38;5;34m64\u001b[0m)                  │               \u001b[38;5;34m0\u001b[0m │\n",
              "│ (\u001b[38;5;33mGlobalMaxPooling2D\u001b[0m)                 │                             │                 │\n",
              "├──────────────────────────────────────┼─────────────────────────────┼─────────────────┤\n",
              "│ dense_10 (\u001b[38;5;33mDense\u001b[0m)                     │ (\u001b[38;5;45mNone\u001b[0m, \u001b[38;5;34m32\u001b[0m)                  │           \u001b[38;5;34m2,080\u001b[0m │\n",
              "├──────────────────────────────────────┼─────────────────────────────┼─────────────────┤\n",
              "│ dense_11 (\u001b[38;5;33mDense\u001b[0m)                     │ (\u001b[38;5;45mNone\u001b[0m, \u001b[38;5;34m1\u001b[0m)                   │              \u001b[38;5;34m33\u001b[0m │\n",
              "└──────────────────────────────────────┴─────────────────────────────┴─────────────────┘\n"
            ]
          },
          "metadata": {},
          "output_type": "display_data"
        },
        {
          "data": {
            "text/html": [
              "<pre style=\"white-space:pre;overflow-x:auto;line-height:normal;font-family:Menlo,'DejaVu Sans Mono',consolas,'Courier New',monospace\"><span style=\"font-weight: bold\"> Total params: </span><span style=\"color: #00af00; text-decoration-color: #00af00\">25,553</span> (99.82 KB)\n",
              "</pre>\n"
            ],
            "text/plain": [
              "\u001b[1m Total params: \u001b[0m\u001b[38;5;34m25,553\u001b[0m (99.82 KB)\n"
            ]
          },
          "metadata": {},
          "output_type": "display_data"
        },
        {
          "data": {
            "text/html": [
              "<pre style=\"white-space:pre;overflow-x:auto;line-height:normal;font-family:Menlo,'DejaVu Sans Mono',consolas,'Courier New',monospace\"><span style=\"font-weight: bold\"> Trainable params: </span><span style=\"color: #00af00; text-decoration-color: #00af00\">25,553</span> (99.82 KB)\n",
              "</pre>\n"
            ],
            "text/plain": [
              "\u001b[1m Trainable params: \u001b[0m\u001b[38;5;34m25,553\u001b[0m (99.82 KB)\n"
            ]
          },
          "metadata": {},
          "output_type": "display_data"
        },
        {
          "data": {
            "text/html": [
              "<pre style=\"white-space:pre;overflow-x:auto;line-height:normal;font-family:Menlo,'DejaVu Sans Mono',consolas,'Courier New',monospace\"><span style=\"font-weight: bold\"> Non-trainable params: </span><span style=\"color: #00af00; text-decoration-color: #00af00\">0</span> (0.00 B)\n",
              "</pre>\n"
            ],
            "text/plain": [
              "\u001b[1m Non-trainable params: \u001b[0m\u001b[38;5;34m0\u001b[0m (0.00 B)\n"
            ]
          },
          "metadata": {},
          "output_type": "display_data"
        }
      ],
      "source": [
        "model = keras.Sequential()\n",
        "\n",
        "# input\n",
        "model.add(keras.Input(shape=(32, 32, number_of_features)))  # 32x32 images\n",
        "\n",
        "# data augmentation layers\n",
        "model.add(layers.RandomFlip(\"horizontal_and_vertical\"))\n",
        "#model.add(layers.RandomRotation(factor=(-0.5, 0.5)))\n",
        "\n",
        "# hidden layers\n",
        "model.add(layers.Conv2D(filters=16, kernel_size=(3,3), strides=1, padding=\"same\", activation=\"relu\"))\n",
        "model.add(layers.MaxPooling2D(pool_size=(2, 2)))\n",
        "model.add(layers.Dropout(0.2))\n",
        "\n",
        "model.add(layers.Conv2D(filters=32, kernel_size=(3,3), strides=1, padding=\"same\", activation=\"relu\"))\n",
        "model.add(layers.MaxPooling2D(pool_size=(2, 2)))\n",
        "model.add(layers.Dropout(0.2))\n",
        "\n",
        "model.add(layers.Conv2D(filters=64, kernel_size=(3,3), strides=1, padding=\"same\", activation=\"relu\"))\n",
        "model.add(layers.MaxPooling2D(pool_size=(2, 2)))\n",
        "model.add(layers.Dropout(0.2))\n",
        "\n",
        "# Now that we have 4x4 feature maps, now apply global max pooling.\n",
        "model.add(layers.GlobalMaxPooling2D())\n",
        "\n",
        "# Finally, we add last fully connected (dense) layers\n",
        "model.add(layers.Dense(32))\n",
        "model.add(layers.Dense(1, activation=\"linear\"))\n",
        "\n",
        "# print model summary\n",
        "model.summary()"
      ]
    },
    {
      "cell_type": "markdown",
      "metadata": {
        "id": "AXkjSNM3mD2u"
      },
      "source": [
        "Proceeding with compiling our model and selecting some metrics to use."
      ]
    },
    {
      "cell_type": "markdown",
      "metadata": {
        "id": "knrWFwJ5LU2A"
      },
      "source": [
        "Some common evaluation metrics used with regression problems are:\n",
        "\n",
        "Mean absolute error (MAE): $\\frac{1}{N} \\sum\\limits_{i = 1}^{N} \\lvert \\hat{y}_i - y_i \\rvert$\n",
        "\n",
        "Mean squared error (MSE): $\\frac{1}{N} \\sum\\limits_{i = 1}^{N} (\\hat{y}_i - y_i)^2$\n",
        "\n",
        "\n",
        "More evalution metrics can be found [here](https://scikit-learn.org/stable/modules/model_evaluation.html)."
      ]
    },
    {
      "cell_type": "code",
      "execution_count": 141,
      "metadata": {
        "id": "lPb4PhGRlZgN"
      },
      "outputs": [],
      "source": [
        "METRICS = [\n",
        "    keras.metrics.MeanSquaredError(name='mean_squared_error'),\n",
        "    keras.metrics.RootMeanSquaredError(name='root_mean_squared_error'),\n",
        "]"
      ]
    },
    {
      "cell_type": "code",
      "execution_count": 142,
      "metadata": {
        "id": "o82dwXizjNTa"
      },
      "outputs": [],
      "source": [
        "model.compile(\n",
        "    optimizer=keras.optimizers.Adam(learning_rate=0.001),\n",
        "    loss=\"mean_squared_error\",\n",
        "    metrics=METRICS\n",
        ")"
      ]
    },
    {
      "cell_type": "code",
      "execution_count": 143,
      "metadata": {
        "id": "QEdyoR97MTrv"
      },
      "outputs": [],
      "source": [
        "BATCH_SIZE = 32\n",
        "EPOCHS = 10"
      ]
    },
    {
      "cell_type": "code",
      "execution_count": 144,
      "metadata": {
        "colab": {
          "base_uri": "https://localhost:8080/"
        },
        "id": "QfhYCYuVmXu7",
        "outputId": "4564ead3-0dc1-4674-d41d-ed695093bf94"
      },
      "outputs": [
        {
          "name": "stdout",
          "output_type": "stream",
          "text": [
            "Epoch 1/10\n",
            "\u001b[1m44/44\u001b[0m \u001b[32m━━━━━━━━━━━━━━━━━━━━\u001b[0m\u001b[37m\u001b[0m \u001b[1m4s\u001b[0m 41ms/step - loss: 1.5448 - mean_squared_error: 1.5448 - root_mean_squared_error: 1.2329 - val_loss: 0.8688 - val_mean_squared_error: 0.8688 - val_root_mean_squared_error: 0.9321\n",
            "Epoch 2/10\n",
            "\u001b[1m44/44\u001b[0m \u001b[32m━━━━━━━━━━━━━━━━━━━━\u001b[0m\u001b[37m\u001b[0m \u001b[1m2s\u001b[0m 38ms/step - loss: 0.8129 - mean_squared_error: 0.8129 - root_mean_squared_error: 0.9015 - val_loss: 0.8857 - val_mean_squared_error: 0.8857 - val_root_mean_squared_error: 0.9411\n",
            "Epoch 3/10\n",
            "\u001b[1m44/44\u001b[0m \u001b[32m━━━━━━━━━━━━━━━━━━━━\u001b[0m\u001b[37m\u001b[0m \u001b[1m2s\u001b[0m 36ms/step - loss: 0.7350 - mean_squared_error: 0.7350 - root_mean_squared_error: 0.8572 - val_loss: 0.8632 - val_mean_squared_error: 0.8632 - val_root_mean_squared_error: 0.9291\n",
            "Epoch 4/10\n",
            "\u001b[1m44/44\u001b[0m \u001b[32m━━━━━━━━━━━━━━━━━━━━\u001b[0m\u001b[37m\u001b[0m \u001b[1m3s\u001b[0m 55ms/step - loss: 0.7058 - mean_squared_error: 0.7058 - root_mean_squared_error: 0.8401 - val_loss: 0.8178 - val_mean_squared_error: 0.8178 - val_root_mean_squared_error: 0.9043\n",
            "Epoch 5/10\n",
            "\u001b[1m44/44\u001b[0m \u001b[32m━━━━━━━━━━━━━━━━━━━━\u001b[0m\u001b[37m\u001b[0m \u001b[1m2s\u001b[0m 36ms/step - loss: 0.6569 - mean_squared_error: 0.6569 - root_mean_squared_error: 0.8102 - val_loss: 0.7467 - val_mean_squared_error: 0.7467 - val_root_mean_squared_error: 0.8641\n",
            "Epoch 6/10\n",
            "\u001b[1m44/44\u001b[0m \u001b[32m━━━━━━━━━━━━━━━━━━━━\u001b[0m\u001b[37m\u001b[0m \u001b[1m2s\u001b[0m 36ms/step - loss: 0.6394 - mean_squared_error: 0.6394 - root_mean_squared_error: 0.7994 - val_loss: 0.7054 - val_mean_squared_error: 0.7054 - val_root_mean_squared_error: 0.8399\n",
            "Epoch 7/10\n",
            "\u001b[1m44/44\u001b[0m \u001b[32m━━━━━━━━━━━━━━━━━━━━\u001b[0m\u001b[37m\u001b[0m \u001b[1m3s\u001b[0m 37ms/step - loss: 0.5693 - mean_squared_error: 0.5693 - root_mean_squared_error: 0.7542 - val_loss: 0.7320 - val_mean_squared_error: 0.7320 - val_root_mean_squared_error: 0.8555\n",
            "Epoch 8/10\n",
            "\u001b[1m44/44\u001b[0m \u001b[32m━━━━━━━━━━━━━━━━━━━━\u001b[0m\u001b[37m\u001b[0m \u001b[1m3s\u001b[0m 37ms/step - loss: 0.5209 - mean_squared_error: 0.5209 - root_mean_squared_error: 0.7210 - val_loss: 0.7087 - val_mean_squared_error: 0.7087 - val_root_mean_squared_error: 0.8419\n",
            "Epoch 9/10\n",
            "\u001b[1m44/44\u001b[0m \u001b[32m━━━━━━━━━━━━━━━━━━━━\u001b[0m\u001b[37m\u001b[0m \u001b[1m4s\u001b[0m 63ms/step - loss: 0.4146 - mean_squared_error: 0.4146 - root_mean_squared_error: 0.6436 - val_loss: 0.6179 - val_mean_squared_error: 0.6179 - val_root_mean_squared_error: 0.7860\n",
            "Epoch 10/10\n",
            "\u001b[1m44/44\u001b[0m \u001b[32m━━━━━━━━━━━━━━━━━━━━\u001b[0m\u001b[37m\u001b[0m \u001b[1m2s\u001b[0m 37ms/step - loss: 0.3684 - mean_squared_error: 0.3684 - root_mean_squared_error: 0.6067 - val_loss: 0.5071 - val_mean_squared_error: 0.5071 - val_root_mean_squared_error: 0.7121\n"
          ]
        }
      ],
      "source": [
        "history = model.fit(\n",
        "    x=train_feats_standardized.values,\n",
        "    y=train_label_standardized.values,\n",
        "    batch_size=BATCH_SIZE,\n",
        "    epochs=EPOCHS,\n",
        "    validation_split=0.1,\n",
        "    shuffle=True,\n",
        ")"
      ]
    },
    {
      "cell_type": "code",
      "execution_count": 145,
      "metadata": {
        "colab": {
          "base_uri": "https://localhost:8080/",
          "height": 430
        },
        "id": "KD2-89DcoW44",
        "outputId": "67eed4bb-6f22-4c04-b835-b22a1c93fb4a"
      },
      "outputs": [
        {
          "data": {
            "image/png": "[encoded data removed]",
            "text/plain": [
              "<Figure size 640x480 with 1 Axes>"
            ]
          },
          "metadata": {},
          "output_type": "display_data"
        }
      ],
      "source": [
        "plt.plot(history.history[\"mean_squared_error\"], c='k', label='training')\n",
        "plt.plot(history.history[\"val_mean_squared_error\"], c='r', label='validation')\n",
        "plt.legend()\n",
        "plt.show()"
      ]
    },
    {
      "cell_type": "markdown",
      "metadata": {
        "id": "rwxlG2G0xcQ6"
      },
      "source": [
        "Lets now evaluate the model using the test dataset. We need to standardize the data, but using the mean and standard deviation of the training set."
      ]
    },
    {
      "cell_type": "code",
      "execution_count": 146,
      "metadata": {
        "id": "7zaFmAIUorvC"
      },
      "outputs": [],
      "source": [
        "def z_score_testing(da, testdata):\n",
        "    \"\"\"\n",
        "    Compute z-score for testing data.\n",
        "    Args:\n",
        "        da (array): Array of training variable.\n",
        "    \"\"\"\n",
        "    return (testdata - np.mean(da)) / np.std(da)\n",
        "\n",
        "def z_score_nosub_testing(da, testdata):\n",
        "    \"\"\"\n",
        "    Compute z-score for training data.\n",
        "    Normalizing data for ML model training.\n",
        "    Args:\n",
        "        da (array): Array of training variable.\n",
        "    \"\"\"\n",
        "    return testdata / np.std(da)"
      ]
    },
    {
      "cell_type": "code",
      "execution_count": 147,
      "metadata": {
        "id": "3jR6rF-lx55_"
      },
      "outputs": [],
      "source": [
        "# normalization of our training data (note each feature individually processed!)\n",
        "test_feats_standardized = xr.concat([\n",
        "    z_score_nosub_testing(\n",
        "        train_feats.isel(feature=0).expand_dims(dim='feature', axis=3),\n",
        "        test_feats.isel(feature=0).expand_dims(dim='feature', axis=3)\n",
        "        ),\n",
        "    z_score_nosub_testing(\n",
        "        train_feats.isel(feature=1).expand_dims(dim='feature', axis=3),\n",
        "        test_feats.isel(feature=1).expand_dims(dim='feature', axis=3)\n",
        "        )],\n",
        "                                     dim='feature')\n",
        "\n",
        "test_label_standardized = z_score_testing(train_label, test_label)"
      ]
    },
    {
      "cell_type": "code",
      "execution_count": 148,
      "metadata": {
        "colab": {
          "base_uri": "https://localhost:8080/"
        },
        "id": "ZXfumUFnor4-",
        "outputId": "c037602d-2594-4d12-df14-8d0abf729210"
      },
      "outputs": [
        {
          "name": "stdout",
          "output_type": "stream",
          "text": [
            "Evaluate on test data\n",
            "\u001b[1m6/6\u001b[0m \u001b[32m━━━━━━━━━━━━━━━━━━━━\u001b[0m\u001b[37m\u001b[0m \u001b[1m0s\u001b[0m 58ms/step - loss: 0.6155 - mean_squared_error: 0.6155 - root_mean_squared_error: 0.7844\n",
            "[0.6060198545455933, 0.6060198545455933, 0.7784727811813354]\n"
          ]
        }
      ],
      "source": [
        "# Evaluate the model on the test data using `evaluate`\n",
        "print(\"Evaluate on test data\")\n",
        "results = model.evaluate(test_feats_standardized.values, test_label_standardized.values, batch_size=128)\n",
        "print(results)"
      ]
    },
    {
      "cell_type": "code",
      "execution_count": 149,
      "metadata": {
        "colab": {
          "base_uri": "https://localhost:8080/"
        },
        "id": "tSHfeMExzVqb",
        "outputId": "da5f05a3-c44a-4efe-d566-bb3601e5c122"
      },
      "outputs": [
        {
          "name": "stdout",
          "output_type": "stream",
          "text": [
            "\u001b[1m21/21\u001b[0m \u001b[32m━━━━━━━━━━━━━━━━━━━━\u001b[0m\u001b[37m\u001b[0m \u001b[1m0s\u001b[0m 14ms/step\n"
          ]
        }
      ],
      "source": [
        "# generate predictions using the trained model\n",
        "predictions = model.predict(test_feats_standardized.values)"
      ]
    },
    {
      "cell_type": "code",
      "execution_count": 150,
      "metadata": {
        "colab": {
          "base_uri": "https://localhost:8080/",
          "height": 430
        },
        "id": "xzOMgkXozb6V",
        "outputId": "d8cf4d03-a2c6-4fb0-8446-bd592ea373b0"
      },
      "outputs": [
        {
          "data": {
            "image/png": "[encoded data removed]",
            "text/plain": [
              "<Figure size 640x480 with 1 Axes>"
            ]
          },
          "metadata": {},
          "output_type": "display_data"
        }
      ],
      "source": [
        "# visualize predictions vs ground truth\n",
        "plt.scatter(predictions, test_label_standardized.values)\n",
        "plt.show()"
      ]
    },
    {
      "cell_type": "markdown",
      "metadata": {
        "id": "6soWOXwjyo8t"
      },
      "source": [
        "# Tutorial Practice: How does batch size impact model training?\n",
        "\n",
        "---"
      ]
    },
    {
      "cell_type": "code",
      "execution_count": 131,
      "metadata": {
        "id": "PZlR8mqqy3py"
      },
      "outputs": [],
      "source": [
        "# recreate the model object"
      ]
    },
    {
      "cell_type": "code",
      "execution_count": null,
      "metadata": {
        "id": "HOB_0mQEzJwz"
      },
      "outputs": [],
      "source": [
        "# recompile the model"
      ]
    },
    {
      "cell_type": "code",
      "execution_count": null,
      "metadata": {
        "id": "5oNHXJ4_zJ3I"
      },
      "outputs": [],
      "source": [
        "# retrain the model"
      ]
    },
    {
      "cell_type": "code",
      "execution_count": null,
      "metadata": {
        "id": "rMHPapkbzJ9m"
      },
      "outputs": [],
      "source": [
        "# evaluate the new model's skill"
      ]
    },
    {
      "cell_type": "markdown",
      "metadata": {
        "id": "hsqlwFRY1aXd"
      },
      "source": [
        "Other sample questions for practice:\n",
        "\n",
        "*   How does the learning rate impact model training?\n",
        "*   Does data augmentation help with model skill?\n",
        "*   Does reducing regularization impact overfitting (hint: reduce dropout percentage)?"
      ]
    },
    {
      "cell_type": "code",
      "execution_count": null,
      "metadata": {
        "id": "8rhORSiS4Dz3"
      },
      "outputs": [],
      "source": [
        "# more cells for practicing"
      ]
    },
    {
      "cell_type": "markdown",
      "metadata": {
        "id": "Hd9l4RhAC6gu"
      },
      "source": [
        "# Supervised Learning Classification Example\n",
        "\n",
        "---"
      ]
    },
    {
      "cell_type": "markdown",
      "metadata": {
        "id": "CFMnVVa5zti6"
      },
      "source": [
        "Using our work from the previous section, we will now use the data and reframe our problem to be a classification task. As before, we will use two input features."
      ]
    },
    {
      "cell_type": "markdown",
      "metadata": {
        "id": "y5R40_674lUy"
      },
      "source": [
        "However, we will use updraft helicity values (which represent storm updraft rotation) and convert this continuous value into two classes, \"not potentially severe\" and \"potentially severe\". More strongly rotating storms have a greater likelihood of producing severe hazards like tornadoes and large hail. We will use 75 m2/s2 as the delineation mark between the two classes. The two classes will be creating using integer encoding first, with 0 representing non-severe and 1 representing potentially severe, and then converting using one-hot encoding for subsequent training."
      ]
    },
    {
      "cell_type": "code",
      "execution_count": null,
      "metadata": {
        "id": "hj6bAjZ7zt5v"
      },
      "outputs": [],
      "source": [
        "features = xr.concat([\n",
        "    ds['dbz_grid'].expand_dims(dim='feature', axis=3),\n",
        "    ds['ctt_grid'].expand_dims(dim='feature', axis=3)],\n",
        "          dim='feature')\n",
        "\n",
        "labels = ds['uh25_grid'].expand_dims(dim='feature', axis=3).max('x').max('y')\n",
        "\n",
        "train_feats, train_label, test_feats, test_label = random_split(features, labels)\n",
        "\n",
        "# normalization of our training data (note each feature individually processed!)\n",
        "train_feats_standardized = xr.concat([\n",
        "    z_score(train_feats.isel(feature=0).expand_dims(dim='feature', axis=3)),\n",
        "    z_score(train_feats.isel(feature=1).expand_dims(dim='feature', axis=3))],\n",
        "                                     dim='feature')\n",
        "\n",
        "train_label_ints = xr.where(train_label >= 75, 1, 0)"
      ]
    },
    {
      "cell_type": "code",
      "execution_count": null,
      "metadata": {
        "colab": {
          "base_uri": "https://localhost:8080/"
        },
        "id": "dnlyxpuOzuCl",
        "outputId": "6419f7da-9130-47c1-895a-fa5798673af1"
      },
      "outputs": [
        {
          "name": "stdout",
          "output_type": "stream",
          "text": [
            "[[162.55905  ]\n",
            " [  1.8748366]]\n",
            "[[1]\n",
            " [0]]\n"
          ]
        }
      ],
      "source": [
        "print(train_label.values[-2:])\n",
        "print(train_label_ints.values[-2:])"
      ]
    },
    {
      "cell_type": "code",
      "execution_count": null,
      "metadata": {
        "id": "LzGNl7wUzuKz"
      },
      "outputs": [],
      "source": [
        "# convert labels into classes using one-hot encoding\n",
        "onehot_layer = keras.layers.CategoryEncoding(num_tokens=2, output_mode=\"one_hot\")\n",
        "train_y = onehot_layer(train_label_ints.astype(int))"
      ]
    },
    {
      "cell_type": "code",
      "execution_count": null,
      "metadata": {
        "colab": {
          "base_uri": "https://localhost:8080/"
        },
        "id": "K7axDV9KzuY3",
        "outputId": "c1344e4f-24c3-4697-b37a-8ad12fffba96"
      },
      "outputs": [
        {
          "data": {
            "text/plain": [
              "<tf.Tensor: shape=(2, 2), dtype=float32, numpy=\n",
              "array([[0., 1.],\n",
              "       [1., 0.]], dtype=float32)>"
            ]
          },
          "execution_count": 42,
          "metadata": {},
          "output_type": "execute_result"
        }
      ],
      "source": [
        "train_y[-2:]"
      ]
    },
    {
      "cell_type": "code",
      "execution_count": null,
      "metadata": {
        "colab": {
          "base_uri": "https://localhost:8080/"
        },
        "id": "lsRwqJjG7_Ec",
        "outputId": "2f2df4a6-2cb9-49c5-fa35-d16040fd681c"
      },
      "outputs": [
        {
          "name": "stdout",
          "output_type": "stream",
          "text": [
            "189.0\n",
            "(1556,)\n"
          ]
        }
      ],
      "source": [
        "# out of more than 1000 samples, only 189 are the \"severe\" class\n",
        "print(train_y[:,1].numpy().sum())\n",
        "print(train_y[:,1].numpy().shape)"
      ]
    },
    {
      "cell_type": "markdown",
      "metadata": {
        "id": "12FrqE9C7_mS"
      },
      "source": [
        "Class imbalance is a major issue with a minority class that is a rare event, like severe hazards. To address this limitation, we create class weights that help the machine learning model learn that the minority class is important to get correct."
      ]
    },
    {
      "cell_type": "code",
      "execution_count": null,
      "metadata": {
        "colab": {
          "base_uri": "https://localhost:8080/"
        },
        "id": "asYu-Bio70M6",
        "outputId": "c2857cec-a728-4f21-e3b2-38e17de83d59"
      },
      "outputs": [
        {
          "name": "stdout",
          "output_type": "stream",
          "text": [
            "Number of positive samples in training data: 189 (12.15% of total)\n",
            "{0: 0.000731528895391368, 1: 0.005291005291005291}\n"
          ]
        }
      ],
      "source": [
        "# generate class weights due to class imbalance issues\n",
        "# use the second class as the positive one (using 1 index)\n",
        "counts = np.bincount(train_y[:,1].numpy().astype(int))\n",
        "\n",
        "print(\"Number of positive samples in training data: {} ({:.2f}% of total)\".format(\n",
        "    counts[1], 100 * float(counts[1]) / len(train_y)))\n",
        "\n",
        "weight_for_0 = 1.0 / counts[0]\n",
        "weight_for_1 = 1.0 / counts[1]\n",
        "\n",
        "class_weight = {0: weight_for_0, 1: weight_for_1}\n",
        "print(class_weight)"
      ]
    },
    {
      "cell_type": "code",
      "execution_count": null,
      "metadata": {
        "id": "xHmN3l2z70QS"
      },
      "outputs": [],
      "source": [
        "# metrics that are useful for classification, particularly for two classes\n",
        "METRICS = [\n",
        "    keras.metrics.BinaryCrossentropy(name='cross entropy'),  # same as model's loss\n",
        "    keras.metrics.TruePositives(name='tp'),\n",
        "    keras.metrics.FalsePositives(name='fp'),\n",
        "    keras.metrics.TrueNegatives(name='tn'),\n",
        "    keras.metrics.FalseNegatives(name='fn'),\n",
        "    keras.metrics.BinaryAccuracy(name='accuracy'),\n",
        "    keras.metrics.Precision(name='precision'),\n",
        "    keras.metrics.Recall(name='recall'),\n",
        "    keras.metrics.AUC(name='auc'),\n",
        "    keras.metrics.AUC(name='prc', curve='PR'), # precision-recall curve\n",
        "]"
      ]
    },
    {
      "cell_type": "code",
      "execution_count": null,
      "metadata": {
        "colab": {
          "base_uri": "https://localhost:8080/"
        },
        "id": "BHBpYKnh70WR",
        "outputId": "53175725-91e9-4f03-acaa-f468edbcacee"
      },
      "outputs": [
        {
          "name": "stdout",
          "output_type": "stream",
          "text": [
            "Model: \"sequential_1\"\n",
            "_________________________________________________________________\n",
            " Layer (type)                Output Shape              Param #   \n",
            "=================================================================\n",
            " conv2d_3 (Conv2D)           (None, 32, 32, 32)        608       \n",
            "                                                                 \n",
            " max_pooling2d_3 (MaxPoolin  (None, 16, 16, 32)        0         \n",
            " g2D)                                                            \n",
            "                                                                 \n",
            " dropout_3 (Dropout)         (None, 16, 16, 32)        0         \n",
            "                                                                 \n",
            " conv2d_4 (Conv2D)           (None, 16, 16, 64)        18496     \n",
            "                                                                 \n",
            " max_pooling2d_4 (MaxPoolin  (None, 8, 8, 64)          0         \n",
            " g2D)                                                            \n",
            "                                                                 \n",
            " dropout_4 (Dropout)         (None, 8, 8, 64)          0         \n",
            "                                                                 \n",
            " conv2d_5 (Conv2D)           (None, 8, 8, 128)         73856     \n",
            "                                                                 \n",
            " max_pooling2d_5 (MaxPoolin  (None, 4, 4, 128)         0         \n",
            " g2D)                                                            \n",
            "                                                                 \n",
            " dropout_5 (Dropout)         (None, 4, 4, 128)         0         \n",
            "                                                                 \n",
            " global_max_pooling2d_1 (Gl  (None, 128)               0         \n",
            " obalMaxPooling2D)                                               \n",
            "                                                                 \n",
            " dense_2 (Dense)             (None, 64)                8256      \n",
            "                                                                 \n",
            " dense_3 (Dense)             (None, 2)                 130       \n",
            "                                                                 \n",
            "=================================================================\n",
            "Total params: 101346 (395.88 KB)\n",
            "Trainable params: 101346 (395.88 KB)\n",
            "Non-trainable params: 0 (0.00 Byte)\n",
            "_________________________________________________________________\n"
          ]
        }
      ],
      "source": [
        "model = keras.Sequential()\n",
        "\n",
        "# input\n",
        "model.add(keras.Input(shape=(32, 32, number_of_features)))  # 32x32 images\n",
        "\n",
        "# data augmentation layers\n",
        "#model.add(layers.RandomFlip(\"horizontal_and_vertical\"))\n",
        "#model.add(layers.RandomRotation(factor=(-0.5,0.5)))\n",
        "\n",
        "# hidden layers\n",
        "model.add(layers.Conv2D(32, 3, strides=1, padding=\"same\", activation=\"relu\"))\n",
        "model.add(layers.MaxPooling2D(2))\n",
        "model.add(layers.Dropout(0.2))\n",
        "\n",
        "model.add(layers.Conv2D(64, 3, strides=1, padding=\"same\", activation=\"relu\"))\n",
        "model.add(layers.MaxPooling2D(2))\n",
        "model.add(layers.Dropout(0.2))\n",
        "\n",
        "model.add(layers.Conv2D(128, 3, strides=1, padding=\"same\", activation=\"relu\"))\n",
        "model.add(layers.MaxPooling2D(2))\n",
        "model.add(layers.Dropout(0.2))\n",
        "\n",
        "# Now that we have 4x4 feature maps, now apply global max pooling.\n",
        "model.add(layers.GlobalMaxPooling2D())\n",
        "\n",
        "# Finally, we add last fully connected (dense) layers\n",
        "model.add(layers.Dense(64))\n",
        "model.add(layers.Dense(2, activation=\"softmax\"))\n",
        "\n",
        "# print model summary\n",
        "model.summary()"
      ]
    },
    {
      "cell_type": "code",
      "execution_count": null,
      "metadata": {
        "id": "xS8iZ6Ro70bD"
      },
      "outputs": [],
      "source": [
        "model.compile(\n",
        "    optimizer=keras.optimizers.Adam(learning_rate=0.001),\n",
        "    loss=keras.losses.BinaryCrossentropy(), # categorical loss function\n",
        "    metrics=METRICS\n",
        ")"
      ]
    },
    {
      "cell_type": "code",
      "execution_count": null,
      "metadata": {
        "id": "m0jmE_7k823F"
      },
      "outputs": [],
      "source": [
        "BATCH_SIZE = 32\n",
        "EPOCHS = 10"
      ]
    },
    {
      "cell_type": "code",
      "execution_count": null,
      "metadata": {
        "colab": {
          "base_uri": "https://localhost:8080/"
        },
        "id": "o3wCne8Q826e",
        "outputId": "1fc23ce2-824e-4764-e222-fc4cd4422722"
      },
      "outputs": [
        {
          "name": "stdout",
          "output_type": "stream",
          "text": [
            "Fit model on training data\n",
            "Epoch 1/10\n",
            "44/44 [==============================] - 8s 127ms/step - loss: 7.3008e-04 - cross entropy: 0.6251 - tp: 778.0000 - fp: 622.0000 - tn: 778.0000 - fn: 622.0000 - accuracy: 0.5557 - precision: 0.5557 - recall: 0.5557 - auc: 0.6789 - prc: 0.7216 - val_loss: 0.5818 - val_cross entropy: 0.5818 - val_tp: 83.0000 - val_fp: 73.0000 - val_tn: 83.0000 - val_fn: 73.0000 - val_accuracy: 0.5321 - val_precision: 0.5321 - val_recall: 0.5321 - val_auc: 0.7129 - val_prc: 0.7584\n",
            "Epoch 2/10\n",
            "44/44 [==============================] - 4s 99ms/step - loss: 5.8429e-04 - cross entropy: 0.5035 - tp: 947.0000 - fp: 453.0000 - tn: 947.0000 - fn: 453.0000 - accuracy: 0.6764 - precision: 0.6764 - recall: 0.6764 - auc: 0.8062 - prc: 0.8262 - val_loss: 0.4368 - val_cross entropy: 0.4368 - val_tp: 121.0000 - val_fp: 35.0000 - val_tn: 121.0000 - val_fn: 35.0000 - val_accuracy: 0.7756 - val_precision: 0.7756 - val_recall: 0.7756 - val_auc: 0.8727 - val_prc: 0.8823\n",
            "Epoch 3/10\n",
            "44/44 [==============================] - 4s 82ms/step - loss: 5.1437e-04 - cross entropy: 0.4644 - tp: 1042.0000 - fp: 358.0000 - tn: 1042.0000 - fn: 358.0000 - accuracy: 0.7443 - precision: 0.7443 - recall: 0.7443 - auc: 0.8480 - prc: 0.8557 - val_loss: 0.4306 - val_cross entropy: 0.4306 - val_tp: 129.0000 - val_fp: 27.0000 - val_tn: 129.0000 - val_fn: 27.0000 - val_accuracy: 0.8269 - val_precision: 0.8269 - val_recall: 0.8269 - val_auc: 0.8882 - val_prc: 0.8919\n",
            "Epoch 4/10\n",
            "44/44 [==============================] - 5s 108ms/step - loss: 4.2505e-04 - cross entropy: 0.3559 - tp: 1180.0000 - fp: 220.0000 - tn: 1180.0000 - fn: 220.0000 - accuracy: 0.8429 - precision: 0.8429 - recall: 0.8429 - auc: 0.9219 - prc: 0.9216 - val_loss: 0.2431 - val_cross entropy: 0.2431 - val_tp: 148.0000 - val_fp: 8.0000 - val_tn: 148.0000 - val_fn: 8.0000 - val_accuracy: 0.9487 - val_precision: 0.9487 - val_recall: 0.9487 - val_auc: 0.9866 - val_prc: 0.9870\n",
            "Epoch 5/10\n",
            "44/44 [==============================] - 4s 80ms/step - loss: 4.0987e-04 - cross entropy: 0.3486 - tp: 1207.0000 - fp: 193.0000 - tn: 1207.0000 - fn: 193.0000 - accuracy: 0.8621 - precision: 0.8621 - recall: 0.8621 - auc: 0.9237 - prc: 0.9198 - val_loss: 0.2236 - val_cross entropy: 0.2236 - val_tp: 148.0000 - val_fp: 8.0000 - val_tn: 148.0000 - val_fn: 8.0000 - val_accuracy: 0.9487 - val_precision: 0.9487 - val_recall: 0.9487 - val_auc: 0.9931 - val_prc: 0.9933\n",
            "Epoch 6/10\n",
            "44/44 [==============================] - 4s 80ms/step - loss: 3.7793e-04 - cross entropy: 0.3000 - tp: 1260.0000 - fp: 140.0000 - tn: 1260.0000 - fn: 140.0000 - accuracy: 0.9000 - precision: 0.9000 - recall: 0.9000 - auc: 0.9486 - prc: 0.9445 - val_loss: 0.2968 - val_cross entropy: 0.2968 - val_tp: 141.0000 - val_fp: 15.0000 - val_tn: 141.0000 - val_fn: 15.0000 - val_accuracy: 0.9038 - val_precision: 0.9038 - val_recall: 0.9038 - val_auc: 0.9685 - val_prc: 0.9686\n",
            "Epoch 7/10\n",
            "44/44 [==============================] - 5s 112ms/step - loss: 2.9649e-04 - cross entropy: 0.2460 - tp: 1269.0000 - fp: 131.0000 - tn: 1269.0000 - fn: 131.0000 - accuracy: 0.9064 - precision: 0.9064 - recall: 0.9064 - auc: 0.9624 - prc: 0.9579 - val_loss: 0.4005 - val_cross entropy: 0.4005 - val_tp: 131.0000 - val_fp: 25.0000 - val_tn: 131.0000 - val_fn: 25.0000 - val_accuracy: 0.8397 - val_precision: 0.8397 - val_recall: 0.8397 - val_auc: 0.8950 - val_prc: 0.8836\n",
            "Epoch 8/10\n",
            "44/44 [==============================] - 4s 81ms/step - loss: 2.7169e-04 - cross entropy: 0.2344 - tp: 1271.0000 - fp: 129.0000 - tn: 1271.0000 - fn: 129.0000 - accuracy: 0.9079 - precision: 0.9079 - recall: 0.9079 - auc: 0.9675 - prc: 0.9639 - val_loss: 0.3004 - val_cross entropy: 0.3004 - val_tp: 138.0000 - val_fp: 18.0000 - val_tn: 138.0000 - val_fn: 18.0000 - val_accuracy: 0.8846 - val_precision: 0.8846 - val_recall: 0.8846 - val_auc: 0.9419 - val_prc: 0.9370\n",
            "Epoch 9/10\n",
            "44/44 [==============================] - 4s 80ms/step - loss: 2.3649e-04 - cross entropy: 0.1940 - tp: 1298.0000 - fp: 102.0000 - tn: 1298.0000 - fn: 102.0000 - accuracy: 0.9271 - precision: 0.9271 - recall: 0.9271 - auc: 0.9770 - prc: 0.9746 - val_loss: 0.2613 - val_cross entropy: 0.2613 - val_tp: 137.0000 - val_fp: 19.0000 - val_tn: 137.0000 - val_fn: 19.0000 - val_accuracy: 0.8782 - val_precision: 0.8782 - val_recall: 0.8782 - val_auc: 0.9625 - val_prc: 0.9626\n",
            "Epoch 10/10\n",
            "44/44 [==============================] - 4s 93ms/step - loss: 2.0359e-04 - cross entropy: 0.1631 - tp: 1315.0000 - fp: 85.0000 - tn: 1315.0000 - fn: 85.0000 - accuracy: 0.9393 - precision: 0.9393 - recall: 0.9393 - auc: 0.9819 - prc: 0.9792 - val_loss: 0.2113 - val_cross entropy: 0.2113 - val_tp: 143.0000 - val_fp: 13.0000 - val_tn: 143.0000 - val_fn: 13.0000 - val_accuracy: 0.9167 - val_precision: 0.9167 - val_recall: 0.9167 - val_auc: 0.9783 - val_prc: 0.9788\n"
          ]
        }
      ],
      "source": [
        "print(\"Fit model on training data\")\n",
        "history = model.fit(\n",
        "    x=train_feats_standardized.values,\n",
        "    y=train_y,\n",
        "    batch_size=BATCH_SIZE,\n",
        "    epochs=EPOCHS,\n",
        "    validation_split=0.1,\n",
        "    shuffle=True,\n",
        "    class_weight=class_weight,\n",
        ")"
      ]
    },
    {
      "cell_type": "code",
      "execution_count": null,
      "metadata": {
        "colab": {
          "base_uri": "https://localhost:8080/",
          "height": 430
        },
        "id": "H1FKdrnY829W",
        "outputId": "0afcbf6e-6bca-4a81-fcea-bc432aba349d"
      },
      "outputs": [
        {
          "data": {
            "image/png": "[encoded data removed]",
            "text/plain": [
              "<Figure size 640x480 with 1 Axes>"
            ]
          },
          "metadata": {},
          "output_type": "display_data"
        }
      ],
      "source": [
        "plt.plot(history.history[\"accuracy\"])\n",
        "plt.plot(history.history[\"val_accuracy\"])\n",
        "plt.show()"
      ]
    },
    {
      "cell_type": "code",
      "execution_count": null,
      "metadata": {
        "id": "zMbEUR_O83Aw"
      },
      "outputs": [],
      "source": [
        "# normalization of our training data (note each feature individually processed!)\n",
        "test_feats_standardized = xr.concat([\n",
        "    z_score_testing(\n",
        "        train_feats.isel(feature=0).expand_dims(dim='feature', axis=3),\n",
        "        test_feats.isel(feature=0).expand_dims(dim='feature', axis=3)\n",
        "        ),\n",
        "    z_score_testing(\n",
        "        train_feats.isel(feature=1).expand_dims(dim='feature', axis=3),\n",
        "        test_feats.isel(feature=1).expand_dims(dim='feature', axis=3)\n",
        "        )],\n",
        "                                     dim='feature')\n",
        "\n",
        "test_label_ints = xr.where(test_label >= 75, 1, 0)\n",
        "test_y = onehot_layer(test_label_ints.astype(int))"
      ]
    },
    {
      "cell_type": "code",
      "execution_count": null,
      "metadata": {
        "colab": {
          "base_uri": "https://localhost:8080/"
        },
        "id": "KZ4Zljo_-a7c",
        "outputId": "6e47a10c-f0c0-4ffd-9c13-9871dd3ef44f"
      },
      "outputs": [
        {
          "name": "stdout",
          "output_type": "stream",
          "text": [
            "Evaluate on test data\n",
            "6/6 [==============================] - 0s 70ms/step - loss: 0.2836 - cross entropy: 0.2836 - tp: 605.0000 - fp: 63.0000 - tn: 605.0000 - fn: 63.0000 - accuracy: 0.9057 - precision: 0.9057 - recall: 0.9057 - auc: 0.9548 - prc: 0.9461\n",
            "[0.28363198041915894, 0.28363198041915894, 605.0, 63.0, 605.0, 63.0, 0.9056886434555054, 0.9056886434555054, 0.9056886434555054, 0.954757034778595, 0.946064293384552]\n"
          ]
        }
      ],
      "source": [
        "# Evaluate the model on the test data using `evaluate`\n",
        "print(\"Evaluate on test data\")\n",
        "results = model.evaluate(test_feats_standardized.values, test_y, batch_size=128)\n",
        "print(results)"
      ]
    },
    {
      "cell_type": "code",
      "execution_count": null,
      "metadata": {
        "colab": {
          "base_uri": "https://localhost:8080/"
        },
        "id": "9fcwNVSZ-a_X",
        "outputId": "e5191ee7-11f5-45f4-e0d2-ed31e4145504"
      },
      "outputs": [
        {
          "name": "stdout",
          "output_type": "stream",
          "text": [
            "21/21 [==============================] - 1s 21ms/step\n"
          ]
        }
      ],
      "source": [
        "# generate predictions using the trained model\n",
        "predictions = model.predict(test_feats_standardized.values)"
      ]
    },
    {
      "cell_type": "code",
      "execution_count": null,
      "metadata": {
        "id": "tHLyxWLVAqed"
      },
      "outputs": [],
      "source": [
        "pred_ints = xr.where(predictions[:,1]>0.5, 1, 0)"
      ]
    },
    {
      "cell_type": "code",
      "execution_count": null,
      "metadata": {
        "colab": {
          "base_uri": "https://localhost:8080/"
        },
        "id": "JrZYzjM9_eLj",
        "outputId": "1495ca11-b9ec-46d2-fe28-650495dd2151"
      },
      "outputs": [
        {
          "data": {
            "text/plain": [
              "array([[515,  61],\n",
              "       [  2,  90]])"
            ]
          },
          "execution_count": 55,
          "metadata": {},
          "output_type": "execute_result"
        }
      ],
      "source": [
        "from sklearn.metrics.cluster import contingency_matrix\n",
        "contingency_matrix(test_label_ints.astype(int).values.squeeze(), pred_ints)\n",
        "# tend to predict more false positives"
      ]
    },
    {
      "cell_type": "code",
      "execution_count": null,
      "metadata": {
        "colab": {
          "base_uri": "https://localhost:8080/"
        },
        "id": "UwAmxuqcBJ1K",
        "outputId": "0e0f8aea-f86a-4613-fa09-bbd83f770529"
      },
      "outputs": [
        {
          "data": {
            "text/plain": [
              "array(92)"
            ]
          },
          "execution_count": 56,
          "metadata": {},
          "output_type": "execute_result"
        }
      ],
      "source": [
        "test_label_ints.astype(int).sum().values"
      ]
    },
    {
      "cell_type": "code",
      "execution_count": null,
      "metadata": {
        "colab": {
          "base_uri": "https://localhost:8080/"
        },
        "id": "Bb-w77AwBfUV",
        "outputId": "e49fa2a5-d2e9-42ad-81b0-b6326639c809"
      },
      "outputs": [
        {
          "data": {
            "text/plain": [
              "59"
            ]
          },
          "execution_count": 57,
          "metadata": {},
          "output_type": "execute_result"
        }
      ],
      "source": [
        "pred_ints.sum() - 92"
      ]
    },
    {
      "cell_type": "markdown",
      "metadata": {
        "id": "KmokO1cq9_RS"
      },
      "source": [
        "# Tutorial Practice: What happens if we do not use class weights during training?\n",
        "\n",
        "---"
      ]
    },
    {
      "cell_type": "code",
      "execution_count": null,
      "metadata": {
        "id": "0a43SpER-Mxd"
      },
      "outputs": [],
      "source": [
        "# recreate the model object"
      ]
    },
    {
      "cell_type": "code",
      "execution_count": null,
      "metadata": {
        "id": "ITEZzW3y-M02"
      },
      "outputs": [],
      "source": [
        "# recompile the model"
      ]
    },
    {
      "cell_type": "code",
      "execution_count": null,
      "metadata": {
        "id": "Xak_WCCB-M3-"
      },
      "outputs": [],
      "source": [
        "# retrain the model without class weights"
      ]
    },
    {
      "cell_type": "code",
      "execution_count": null,
      "metadata": {
        "id": "qwdW6YEP-NCM"
      },
      "outputs": [],
      "source": [
        "# evaluate the new model's skill"
      ]
    },
    {
      "cell_type": "markdown",
      "metadata": {
        "id": "Y8DYzxtePqCH"
      },
      "source": [
        "# References\n",
        "\n",
        "Campbell, T., G. M. Lackmann, M. J. Molina, and M. D. Parker (2024). Severe Convective Storms in Limited Instability Organized by Pattern and Distribution. Weather and Forecasting. https://journals.ametsoc.org/view/journals/wefo/39/1/WAF-D-23-0130.1.xml\n",
        "\n",
        "DuVivier, A. K., M. J. Molina, A. L. Deppenmeier, M. M. Holland, L. Landrum, K. Krumhardt, and S. Jenouvrier (2023). Projections of Winter Polynyas and Their Biophysical Impacts in the Ross Sea Antarctica. Climate Dynamics. https://link.springer.com/article/10.1007/s00382-023-06951-z\n",
        "\n",
        "Molina, M. J., D. J. Gagne, and A. F. Prein (2021). A benchmark to test generalization capabilities of deep learning methods to classify severe convective storms in a changing climate. Earth and Space Science. https://agupubs.onlinelibrary.wiley.com/doi/full/10.1029/2020EA001490\n",
        "\n",
        "Molina, M. J., T. A. O'Brien, G. Anderson, M. Ashfaq, K. E. Bennett, W. D. Collins, K. Dagon, J. M. Restrepo, and P. A. Ullrich (2023). A Review of Recent and Emerging Machine Learning Applications for Climate Variability and Weather Phenomena. Artificial Intelligence for the Earth Systems. https://journals.ametsoc.org/view/journals/aies/2/4/AIES-D-22-0086.1.xml\n",
        "\n",
        "Molina, M. J., J. H. Richter, A. A. Glanville, K. Dagon, J. Berner, A. Hu, and G. A. Meehl (2023). Subseasonal Representation and Predictability of North American Weather Regimes using Cluster Analysis. Artificial Intelligence for the Earth Systems. https://journals.ametsoc.org/view/journals/aies/2/2/AIES-D-22-0051.1.xml\n",
        "\n",
        "Passarella, L.S. and Mahajan, S., 2023. Assessing Tropical Pacific–Induced Predictability of Southern California Precipitation Using a Novel Multi-Input Multioutput Autoencoder. Artificial Intelligence for the Earth Systems, 2(4), p.e230003. https://journals.ametsoc.org/view/journals/aies/2/4/AIES-D-23-0003.1.xml"
      ]
    }
  ],
  "metadata": {
    "colab": {
      "authorship_tag": "ABX9TyNmNVga0EaMEgweAd9mREeS",
      "include_colab_link": true,
      "provenance": []
    },
    "kernelspec": {
      "display_name": "aiclass",
      "language": "python",
      "name": "python3"
    },
    "language_info": {
      "codemirror_mode": {
        "name": "ipython",
        "version": 3
      },
      "file_extension": ".py",
      "mimetype": "text/x-python",
      "name": "python",
      "nbconvert_exporter": "python",
      "pygments_lexer": "ipython3",
      "version": "3.12.9"
    }
  },
  "nbformat": 4,
  "nbformat_minor": 0
}
